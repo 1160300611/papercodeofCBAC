{
 "cells": [
  {
   "cell_type": "code",
   "execution_count": 2,
   "metadata": {},
   "outputs": [
    {
     "name": "stdout",
     "output_type": "stream",
     "text": [
      "feat_dim  [21584, 15030, 14204, 6540]\n",
      "Link Prediction Test\n",
      "AUC = 0.9477602246233879\n",
      "AP = 0.9577652292627743\n",
      "----------------------------------------------------------------\n",
      "Link Prediction Tests Summary\n",
      "AUC_mean = 0.9477602246233879, AUC_std = 0.0\n",
      "AP_mean = 0.9577652292627743, AP_std = 0.0\n"
     ]
    }
   ],
   "source": [
    "%run run_GAT.py"
   ]
  },
  {
   "cell_type": "code",
   "execution_count": null,
   "metadata": {},
   "outputs": [],
   "source": []
  }
 ],
 "metadata": {
  "kernelspec": {
   "display_name": "hem",
   "language": "python",
   "name": "hem"
  },
  "language_info": {
   "codemirror_mode": {
    "name": "ipython",
    "version": 3
   },
   "file_extension": ".py",
   "mimetype": "text/x-python",
   "name": "python",
   "nbconvert_exporter": "python",
   "pygments_lexer": "ipython3",
   "version": "3.7.7"
  }
 },
 "nbformat": 4,
 "nbformat_minor": 2
}
