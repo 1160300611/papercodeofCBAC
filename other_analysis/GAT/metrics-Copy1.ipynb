{
 "cells": [
  {
   "cell_type": "code",
   "execution_count": 2,
   "metadata": {},
   "outputs": [],
   "source": [
    "import numpy as np\n",
    "import matplotlib.pyplot as plt\n",
    "from sklearn.metrics import accuracy_score, roc_auc_score, roc_curve, recall_score, \\\n",
    "f1_score, ndcg_score, precision_score, average_precision_score, precision_recall_curve"
   ]
  },
  {
   "cell_type": "code",
   "execution_count": 3,
   "metadata": {},
   "outputs": [
    {
     "data": {
      "text/plain": [
       "(array([1, 1, 1, ..., 0, 0, 0]),\n",
       " array([0.3781182 , 0.81640273, 0.76810426, ..., 0.05464197, 0.0491982 ,\n",
       "        0.04193938], dtype=float32))"
      ]
     },
     "execution_count": 3,
     "metadata": {},
     "output_type": "execute_result"
    }
   ],
   "source": [
    "results = np.load('prediction_result.npz')\n",
    "results['y_true'], results['y_pred']"
   ]
  },
  {
   "cell_type": "code",
   "execution_count": 11,
   "metadata": {},
   "outputs": [],
   "source": [
    "y_true = results['y_true']\n",
    "y_pred = results['y_pred']\n",
    "\n",
    "sorted_ind = np.argsort(y_pred)[::-1]\n",
    "sorted_y_true = y_true[sorted_ind]\n",
    "ind = 11897\n",
    "       \n",
    "sorted_y_pred = np.zeros_like(sorted_y_true)\n"
   ]
  },
  {
   "cell_type": "code",
   "execution_count": 12,
   "metadata": {
    "scrolled": true
   },
   "outputs": [
    {
     "data": {
      "image/png": "[encoded data removed]",
      "text/plain": [
       "<Figure size 432x288 with 1 Axes>"
      ]
     },
     "metadata": {
      "needs_background": "light"
     },
     "output_type": "display_data"
    },
    {
     "data": {
      "text/plain": [
       "(array([0.01673209, 0.01682208, 0.01683905, ..., 0.9876602 , 0.987672  ,\n",
       "        0.9878594 ], dtype=float32),\n",
       " array([1, 1, 1, ..., 0, 0, 0]))"
      ]
     },
     "execution_count": 12,
     "metadata": {},
     "output_type": "execute_result"
    }
   ],
   "source": [
    "fpr, tpr, thresholds = roc_curve(y_true, y_pred)\n",
    "np.savez('GAT_roc_curve.npz', fpr=fpr, tpr=tpr, thresholds=thresholds)\n",
    "precision, recall, thresholds = precision_recall_curve(y_true, y_pred)\n",
    "np.savez('GAT_pr_curve.npz', precision=precision, recall=recall, thresholds=thresholds)\n",
    "plt.plot(fpr, tpr)\n",
    "plt.show()\n",
    "sorted_y_pred = np.zeros_like(sorted_y_true)\n",
    "for i in range (ind):\n",
    "    if(y_pred[i] >= thresholds[i]):\n",
    "       sorted_y_pred[i] = 1\n",
    "thresholds,sorted_y_pred,"
   ]
  },
  {
   "cell_type": "code",
   "execution_count": 14,
   "metadata": {},
   "outputs": [
    {
     "data": {
      "text/plain": [
       "(0.9477602246233879,\n",
       " 0.9577652292627743,\n",
       " 0.9329995413545329,\n",
       " 0.8659990827090659,\n",
       " 0.898251656419767)"
      ]
     },
     "execution_count": 14,
     "metadata": {},
     "output_type": "execute_result"
    }
   ],
   "source": [
    "auc = roc_auc_score(y_true, y_pred)\n",
    "precision = average_precision_score(y_true, y_pred)\n",
    "acc = accuracy_score(y_true, sorted_y_pred)\n",
    "recall = recall_score(y_true, sorted_y_pred)\n",
    "f1value = 2*acc*recall/(acc+recall)\n",
    "auc,precision,acc,recall,f1value"
   ]
  },
  {
   "cell_type": "code",
   "execution_count": null,
   "metadata": {},
   "outputs": [],
   "source": []
  }
 ],
 "metadata": {
  "kernelspec": {
   "display_name": "hem",
   "language": "python",
   "name": "hem"
  },
  "language_info": {
   "codemirror_mode": {
    "name": "ipython",
    "version": 3
   },
   "file_extension": ".py",
   "mimetype": "text/x-python",
   "name": "python",
   "nbconvert_exporter": "python",
   "pygments_lexer": "ipython3",
   "version": "3.7.7"
  }
 },
 "nbformat": 4,
 "nbformat_minor": 2
}
