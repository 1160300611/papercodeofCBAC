{
 "cells": [
  {
   "cell_type": "code",
   "execution_count": 2,
   "metadata": {},
   "outputs": [],
   "source": [
    "import numpy as np\n",
    "import matplotlib.pyplot as plt\n",
    "from sklearn.metrics import accuracy_score, roc_auc_score, roc_curve, recall_score, \\\n",
    "f1_score, ndcg_score, precision_score, average_precision_score, precision_recall_curve"
   ]
  },
  {
   "cell_type": "code",
   "execution_count": 3,
   "metadata": {},
   "outputs": [
    {
     "data": {
      "text/plain": [
       "(array([1, 1, 1, ..., 0, 0, 0]),\n",
       " array([0.9252202 , 0.8715879 , 0.7345511 , ..., 0.01262255, 0.03667778,\n",
       "        0.01970361], dtype=float32))"
      ]
     },
     "execution_count": 3,
     "metadata": {},
     "output_type": "execute_result"
    }
   ],
   "source": [
    "results = np.load('prediction_result.npz')\n",
    "results['y_true'], results['y_pred']"
   ]
  },
  {
   "cell_type": "code",
   "execution_count": 4,
   "metadata": {},
   "outputs": [
    {
     "data": {
      "text/plain": [
       "(array([1, 1, 1, ..., 0, 0, 0]), array([0, 0, 0, ..., 0, 0, 0]))"
      ]
     },
     "execution_count": 4,
     "metadata": {},
     "output_type": "execute_result"
    }
   ],
   "source": [
    "y_true = results['y_true']\n",
    "y_pred = results['y_pred']\n",
    "sorted_ind = np.argsort(y_pred)[::-1]\n",
    "sorted_y_true = y_true[sorted_ind]\n",
    "sorted_y_pred = np.zeros_like(sorted_y_true)\n",
    "sorted_y_true, sorted_y_pred"
   ]
  },
  {
   "cell_type": "code",
   "execution_count": 5,
   "metadata": {
    "scrolled": true
   },
   "outputs": [
    {
     "data": {
      "image/png": "[encoded data removed]",
      "text/plain": [
       "<Figure size 432x288 with 1 Axes>"
      ]
     },
     "metadata": {
      "needs_background": "light"
     },
     "output_type": "display_data"
    }
   ],
   "source": [
    "fpr, tpr, thresholds = roc_curve(y_true, y_pred)\n",
    "np.savez('GAT_roc_curve.npz', fpr=fpr, tpr=tpr, thresholds=thresholds)\n",
    "precision, recall, thresholds = precision_recall_curve(y_true, y_pred)\n",
    "np.savez('GAT_pr_curve.npz', precision=precision, recall=recall, thresholds=thresholds)\n",
    "plt.plot(fpr, tpr)\n",
    "plt.show()\n",
    "sorted_y_pred = np.zeros_like(sorted_y_true)\n",
    "for i in range (24062):\n",
    "    if(y_pred[i] >= thresholds[i]):\n",
    "       sorted_y_pred[i] = 1\n"
   ]
  },
  {
   "cell_type": "code",
   "execution_count": 6,
   "metadata": {},
   "outputs": [
    {
     "data": {
      "text/plain": [
       "(0.9546261049603244,\n",
       " 0.9583412089879396,\n",
       " 0.9500267543189115,\n",
       " 0.900053508637823,\n",
       " 0.9243652079807481)"
      ]
     },
     "execution_count": 6,
     "metadata": {},
     "output_type": "execute_result"
    }
   ],
   "source": [
    "auc = roc_auc_score(y_true, y_pred)\n",
    "precision = average_precision_score(y_true, y_pred)\n",
    "acc = accuracy_score(y_true, sorted_y_pred)\n",
    "recall = recall_score(y_true, sorted_y_pred)\n",
    "f1value = 2*acc*recall/(acc+recall)\n",
    "\n",
    "auc,precision,acc,recall,f1value"
   ]
  },
  {
   "cell_type": "code",
   "execution_count": null,
   "metadata": {},
   "outputs": [],
   "source": []
  }
 ],
 "metadata": {
  "kernelspec": {
   "display_name": "hem",
   "language": "python",
   "name": "hem"
  },
  "language_info": {
   "codemirror_mode": {
    "name": "ipython",
    "version": 3
   },
   "file_extension": ".py",
   "mimetype": "text/x-python",
   "name": "python",
   "nbconvert_exporter": "python",
   "pygments_lexer": "ipython3",
   "version": "3.7.7"
  }
 },
 "nbformat": 4,
 "nbformat_minor": 2
}
