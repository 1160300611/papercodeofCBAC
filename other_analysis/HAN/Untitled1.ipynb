{
 "cells": [
  {
   "cell_type": "code",
   "execution_count": 2,
   "metadata": {},
   "outputs": [
    {
     "name": "stdout",
     "output_type": "stream",
     "text": [
      "Link Prediction Test\n",
      "AUC = 0.9859854044488492\n",
      "AP = 0.9889786640848575\n",
      "----------------------------------------------------------------\n",
      "Link Prediction Tests Summary\n",
      "AUC_mean = 0.9859854044488492, AUC_std = 0.0\n",
      "AP_mean = 0.9889786640848575, AP_std = 0.0\n"
     ]
    }
   ],
   "source": [
    "%run run_HANlink.py"
   ]
  }
 ],
 "metadata": {
  "kernelspec": {
   "display_name": "hem",
   "language": "python",
   "name": "hem"
  },
  "language_info": {
   "codemirror_mode": {
    "name": "ipython",
    "version": 3
   },
   "file_extension": ".py",
   "mimetype": "text/x-python",
   "name": "python",
   "nbconvert_exporter": "python",
   "pygments_lexer": "ipython3",
   "version": "3.7.7"
  }
 },
 "nbformat": 4,
 "nbformat_minor": 2
}
