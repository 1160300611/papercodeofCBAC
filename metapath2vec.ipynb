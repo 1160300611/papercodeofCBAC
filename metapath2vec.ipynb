{
 "cells": [
  {
   "cell_type": "code",
   "execution_count": 1,
   "metadata": {
    "ExecuteTime": {
     "end_time": "2020-10-14T09:06:59.970806Z",
     "start_time": "2020-10-14T09:06:59.967833Z"
    }
   },
   "outputs": [],
   "source": [
    "import sys\n",
    "import os\n",
    "import random\n",
    "from collections import Counter"
   ]
  },
  {
   "cell_type": "code",
   "execution_count": null,
   "metadata": {},
   "outputs": [],
   "source": [
    "class MetaPathGenerator:\n",
    "    def __init__(self):\n",
    "        self.id_author = dict()\n",
    "        self.id_conf = dict()\n",
    "        self.author_coauthorlist = dict()\n",
    "        self.conf_authorlist = dict()\n",
    "        self.author_conflist = dict()\n",
    "        self.paper_author = dict()\n",
    "        self.author_paper = dict()\n",
    "        self.conf_paper = dict()\n",
    "        self.paper_conf = dict()\n",
    "\n",
    "    def read_data(self, dirpath):\n",
    "        with open(dirpath + \"/id_author.txt\") as adictfile:\n",
    "            for line in adictfile:\n",
    "                toks = line.strip().split(\"\\t\")\n",
    "                if len(toks) == 2:\n",
    "                    self.id_author[toks[0]] = toks[1].replace(\" \", \"\")\n",
    "\n",
    "        # print \"#authors\", len(self.id_author)\n",
    "\n",
    "        with open(dirpath + \"/id_conf.txt\") as cdictfile:\n",
    "            for line in cdictfile:\n",
    "                toks = line.strip().split(\"\\t\")\n",
    "                if len(toks) == 2:\n",
    "                    newconf = toks[1].replace(\" \", \"\")\n",
    "                    self.id_conf[toks[0]] = newconf\n",
    "\n",
    "        # print \"#conf\", len(self.id_conf)\n",
    "\n",
    "        with open(dirpath + \"/paper_author.txt\") as pafile:\n",
    "            for line in pafile:\n",
    "                toks = line.strip().split(\"\\t\")\n",
    "                if len(toks) == 2:\n",
    "                    p, a = toks[0], toks[1]\n",
    "                    if p not in self.paper_author:\n",
    "                        self.paper_author[p] = []\n",
    "                    self.paper_author[p].append(a)\n",
    "                    if a not in self.author_paper:\n",
    "                        self.author_paper[a] = []\n",
    "                    self.author_paper[a].append(p)\n",
    "\n",
    "        with open(dirpath + \"/paper_conf.txt\") as pcfile:\n",
    "            for line in pcfile:\n",
    "                toks = line.strip().split(\"\\t\")\n",
    "                if len(toks) == 2:\n",
    "                    p, c = toks[0], toks[1]\n",
    "                    self.paper_conf[p] = c\n",
    "                    if c not in self.conf_paper:\n",
    "                        self.conf_paper[c] = []\n",
    "                    self.conf_paper[c].append(p)\n",
    "\n",
    "        sumpapersconf, sumauthorsconf = 0, 0\n",
    "        conf_authors = dict()\n",
    "        for conf in self.conf_paper:\n",
    "            papers = self.conf_paper[conf]\n",
    "            sumpapersconf += len(papers)\n",
    "            for paper in papers:\n",
    "                if paper in self.paper_author:\n",
    "                    authors = self.paper_author[paper]\n",
    "                    sumauthorsconf += len(authors)\n",
    "\n",
    "        print(\"#confs  \", len(self.conf_paper))\n",
    "        print(\"#papers \", sumpapersconf,  \"#papers per conf \", sumpapersconf / len(self.conf_paper))\n",
    "        print(\"#authors\", sumauthorsconf, \"#authors per conf\", sumauthorsconf / len(self.conf_paper))\n",
    "\n",
    "    def generate_random_aca(self, outfilename, numwalks, walklength):\n",
    "        for conf in self.conf_paper:\n",
    "            self.conf_authorlist[conf] = []\n",
    "            for paper in self.conf_paper[conf]:\n",
    "                if paper not in self.paper_author:\n",
    "                    continue\n",
    "                for author in self.paper_author[paper]:\n",
    "                    self.conf_authorlist[conf].append(author)\n",
    "                    if author not in self.author_conflist:\n",
    "                        self.author_conflist[author] = []\n",
    "                    self.author_conflist[author].append(conf)\n",
    "        # print \"author-conf list done\"\n",
    "\n",
    "        outfile = open(outfilename, 'w')\n",
    "        for conf in self.conf_authorlist:\n",
    "            conf0 = conf\n",
    "            for j in range(numwalks):  # wnum walks\n",
    "                outline = self.id_conf[conf0]\n",
    "                for i in range(walklength):\n",
    "                    authors = self.conf_authorlist[conf]\n",
    "                    numa = len(authors)\n",
    "                    authorid = random.randrange(numa)\n",
    "                    author = authors[authorid]\n",
    "                    outline += \" \" + self.id_author[author]\n",
    "                    confs = self.author_conflist[author]\n",
    "                    numc = len(confs)\n",
    "                    confid = random.randrange(numc)\n",
    "                    conf = confs[confid]\n",
    "                    outline += \" \" + self.id_conf[conf]\n",
    "                outfile.write(outline + \"\\n\")\n",
    "        outfile.close()\n",
    "\n",
    "\n",
    "# python py4genMetaPaths.py 1000 100 net_aminer output.aminer.w1000.l100.txt\n",
    "# python py4genMetaPaths.py 1000 100 net_dbis   output.dbis.w1000.l100.txt\n",
    "\n",
    "dirpath = \"net_aminer\"\n",
    "# OR\n",
    "dirpath = \"net_dbis\"\n",
    "\n",
    "numwalks = int(sys.argv[1])\n",
    "walklength = int(sys.argv[2])\n",
    "\n",
    "dirpath = sys.argv[3]\n",
    "outfilename = sys.argv[4]\n",
    "\n",
    "\n",
    "def main():\n",
    "    mpg = MetaPathGenerator()\n",
    "    mpg.read_data(dirpath)\n",
    "    mpg.generate_random_aca(outfilename, numwalks, walklength)"
   ]
  },
  {
   "cell_type": "code",
   "execution_count": null,
   "metadata": {},
   "outputs": [],
   "source": [
    "# if __name__ == \"__main__\":\n",
    "#     main()"
   ]
  }
 ],
 "metadata": {
  "kernelspec": {
   "display_name": "Python [conda env:OpenNE]",
   "language": "python",
   "name": "conda-env-OpenNE-py"
  },
  "language_info": {
   "codemirror_mode": {
    "name": "ipython",
    "version": 3
   },
   "file_extension": ".py",
   "mimetype": "text/x-python",
   "name": "python",
   "nbconvert_exporter": "python",
   "pygments_lexer": "ipython3",
   "version": "3.6.2"
  },
  "varInspector": {
   "cols": {
    "lenName": 16,
    "lenType": 16,
    "lenVar": 40
   },
   "kernels_config": {
    "python": {
     "delete_cmd_postfix": "",
     "delete_cmd_prefix": "del ",
     "library": "var_list.py",
     "varRefreshCmd": "print(var_dic_list())"
    },
    "r": {
     "delete_cmd_postfix": ") ",
     "delete_cmd_prefix": "rm(",
     "library": "var_list.r",
     "varRefreshCmd": "cat(var_dic_list()) "
    }
   },
   "types_to_exclude": [
    "module",
    "function",
    "builtin_function_or_method",
    "instance",
    "_Feature"
   ],
   "window_display": false
  }
 },
 "nbformat": 4,
 "nbformat_minor": 4
}
