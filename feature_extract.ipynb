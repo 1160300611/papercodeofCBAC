{
 "cells": [
  {
   "cell_type": "code",
   "execution_count": 1,
   "metadata": {
    "ExecuteTime": {
     "end_time": "2020-11-03T10:59:11.362301Z",
     "start_time": "2020-11-03T10:59:10.751010Z"
    },
    "collapsed": true
   },
   "outputs": [],
   "source": [
    "from __future__ import division\n",
    "from __future__ import print_function\n",
    "import numpy as np\n",
    "import pandas as pd\n",
    "import matplotlib.pyplot as plt\n",
    "from itertools import islice\n",
    "import pickle\n",
    "import networkx as nx\n",
    "import random\n",
    "import gc\n",
    "random.seed(32)\n",
    "np.random.seed(32)"
   ]
  },
  {
   "cell_type": "code",
   "execution_count": 2,
   "metadata": {
    "ExecuteTime": {
     "end_time": "2020-11-03T10:59:12.436389Z",
     "start_time": "2020-11-03T10:59:12.304328Z"
    },
    "collapsed": true
   },
   "outputs": [],
   "source": [
    "# 读取文件中的正负边\n",
    "def read_edges(filename):\n",
    "    pos_edges = set()\n",
    "    neg_edges = set()\n",
    "    with open(filename, 'r') as f:\n",
    "        for line in f:\n",
    "            words = line.split()\n",
    "            node1 = words[0]\n",
    "            node2 = words[1]\n",
    "            label = words[2]\n",
    "            if label == '1':\n",
    "                pos_edges.add((node1, node2))\n",
    "            else:\n",
    "                neg_edges.add((node1, node2))\n",
    "#     print(\"{}\\n{}\".format(len(nodeList1),len(nodeList2)))\n",
    "    return list(pos_edges), list(neg_edges)\n",
    "\n",
    "def read_embeddings(embedding_file):\n",
    "    embeddings={}\n",
    "    with open(embedding_file, 'r') as f:\n",
    "        first_line=f.readline()\n",
    "        node_nums,dimension=first_line.split()\n",
    "        #print(\"{} {}\".format(node_nums,dimension))\n",
    "        for line in f:\n",
    "            line=line.split()\n",
    "            embeddings[line[0]]=line[1:]\n",
    "    return embeddings,int(dimension)\n",
    "\n",
    "def get_edge_features(embedding_file,edges_filename,feature_file):\n",
    "    embeddings,embedding_dimension=read_embeddings(embedding_file)\n",
    "    pos_edges,neg_edges=read_edges(edges_filename)\n",
    "    #边的特征\n",
    "    #提取正例特征\n",
    "    pos_features=[]\n",
    "    label=[]\n",
    "    for edge in pos_edges:\n",
    "        if edge[0][0]=='C' and len(edge[0])==8:\n",
    "            disease_id,gene_id=edge\n",
    "        else:\n",
    "            gene_id,disease_id=edge\n",
    "        #print(edge)\n",
    "        pos_features.append(np.hstack((embeddings[disease_id],embeddings[gene_id])))\n",
    "        label.append(1)\n",
    "\n",
    "    #提取负例特征\n",
    "    neg_features=[]\n",
    "    for edge in neg_edges:\n",
    "        if edge[0][0]=='C' and len(edge[0])==8:\n",
    "            disease_id,gene_id=edge\n",
    "        else:\n",
    "            gene_id,disease_id=edge\n",
    "        #print(edge)\n",
    "        neg_features.append(np.hstack((embeddings[disease_id],embeddings[gene_id])))\n",
    "        label.append(0)\n",
    "    train_features=pos_features+neg_features\n",
    "    #基于边的特征\n",
    "    feature_columns=[str(i) for i in range(embedding_dimension*2)]\n",
    "    train_data=pd.DataFrame(train_features,columns=feature_columns)\n",
    "    train_data['label']=label\n",
    "    train_data.to_csv(feature_file,index = False)\n",
    "    return train_data"
   ]
  },
  {
   "cell_type": "code",
   "execution_count": 5,
   "metadata": {
    "ExecuteTime": {
     "end_time": "2020-11-02T13:48:20.086172Z",
     "start_time": "2020-11-02T13:46:37.445268Z"
    }
   },
   "outputs": [
    {
     "name": "stdout",
     "output_type": "stream",
     "text": [
      "57358 128\n"
     ]
    }
   ],
   "source": [
    "connectiveSample_edges=\"network_edgelist/connectiveSample_edges0.9.txt\"\n",
    "connectiveSample_embedding=\"embeddings/all_connectiveSample0.9_sdne128.txt\"  \n",
    "connectiveSample_feature=\"train_data/all_connectiveSample0.9_sdne128.csv\"\n",
    "train_data=get_edge_features(connectiveSample_embedding,connectiveSample_edges,connectiveSample_feature)"
   ]
  },
  {
   "cell_type": "code",
   "execution_count": 4,
   "metadata": {
    "ExecuteTime": {
     "end_time": "2020-11-03T11:22:42.888072Z",
     "start_time": "2020-11-03T11:10:56.764862Z"
    }
   },
   "outputs": [],
   "source": [
    "#批量提取网络表征特征\n",
    "negRatio = [0.5,1,1.5,2,2.5,3,3.5,4,4.5]\n",
    "posEdgeFile=\"network_edgelist/connectiveSample_edges0.1.txt\"\n",
    "filePredix=\"network_edgelist/connectiveSample_negPosRatio\"\n",
    "embeddingMethhods=[\"node2vec\",\"deepwalk\",\"line\",\"sdne\"]\n",
    "for method in embeddingMethhods:\n",
    "    for sampleRatio in negRatio:\n",
    "        edgePath=filePredix+str(sampleRatio)+\".txt\"\n",
    "        embeddingFile=\"embeddings/all_connectiveSample0.1_\"+method+\"128.txt\" \n",
    "        featureSavePath=\"train_data/all_connectiveSample_negPosRatio\"+str(sampleRatio)+\"_\"+method+\"128.csv\"\n",
    "        train_data=get_edge_features(embeddingFile,edgePath,featureSavePath)"
   ]
  },
  {
   "cell_type": "code",
   "execution_count": 4,
   "metadata": {
    "ExecuteTime": {
     "end_time": "2020-11-02T12:27:11.336085Z",
     "start_time": "2020-11-02T11:53:06.783605Z"
    }
   },
   "outputs": [
    {
     "name": "stdout",
     "output_type": "stream",
     "text": [
      "57358 128\n",
      "57358 128\n",
      "57358 128\n",
      "57358 128\n",
      "57358 128\n",
      "57358 128\n",
      "57358 128\n",
      "57358 128\n",
      "57358 128\n",
      "57358 128\n",
      "57358 128\n",
      "57358 128\n",
      "57358 128\n",
      "57358 128\n",
      "57358 128\n",
      "57358 128\n",
      "57358 128\n",
      "57358 128\n",
      "57358 128\n",
      "57358 128\n",
      "57358 128\n",
      "57358 128\n",
      "57358 128\n",
      "57358 128\n",
      "57358 128\n",
      "57358 128\n",
      "57358 128\n",
      "57358 128\n",
      "57358 128\n",
      "57358 128\n",
      "57358 128\n",
      "57358 128\n",
      "57358 128\n",
      "57358 128\n",
      "57358 128\n"
     ]
    },
    {
     "ename": "FileNotFoundError",
     "evalue": "[Errno 2] No such file or directory: 'embeddings/all_connectiveSample0.9_sdne128.txt'",
     "output_type": "error",
     "traceback": [
      "\u001b[0;31m---------------------------------------------------------------------------\u001b[0m",
      "\u001b[0;31mFileNotFoundError\u001b[0m                         Traceback (most recent call last)",
      "\u001b[0;32m<ipython-input-4-24d8fd987648>\u001b[0m in \u001b[0;36m<module>\u001b[0;34m()\u001b[0m\n\u001b[1;32m      9\u001b[0m \u001b[0;34m\u001b[0m\u001b[0m\n\u001b[1;32m     10\u001b[0m         \u001b[0mconnectiveSample_feature\u001b[0m\u001b[0;34m=\u001b[0m\u001b[0;34m\"train_data/all_connectiveSample\"\u001b[0m\u001b[0;34m+\u001b[0m\u001b[0mstr\u001b[0m\u001b[0;34m(\u001b[0m\u001b[0msampleRatio\u001b[0m\u001b[0;34m)\u001b[0m\u001b[0;34m+\u001b[0m\u001b[0;34m\"_\"\u001b[0m\u001b[0;34m+\u001b[0m\u001b[0mmethod\u001b[0m\u001b[0;34m+\u001b[0m\u001b[0;34m\"128.csv\"\u001b[0m\u001b[0;34m\u001b[0m\u001b[0m\n\u001b[0;32m---> 11\u001b[0;31m         \u001b[0mtrain_data\u001b[0m\u001b[0;34m=\u001b[0m\u001b[0mget_edge_features\u001b[0m\u001b[0;34m(\u001b[0m\u001b[0mconnectiveSample_embedding\u001b[0m\u001b[0;34m,\u001b[0m\u001b[0mconnectiveSample_edges\u001b[0m\u001b[0;34m,\u001b[0m\u001b[0mconnectiveSample_feature\u001b[0m\u001b[0;34m)\u001b[0m\u001b[0;34m\u001b[0m\u001b[0m\n\u001b[0m",
      "\u001b[0;32m<ipython-input-2-47a4bd022fa6>\u001b[0m in \u001b[0;36mget_edge_features\u001b[0;34m(embedding_file, edges_filename, feature_file)\u001b[0m\n\u001b[1;32m     28\u001b[0m \u001b[0;34m\u001b[0m\u001b[0m\n\u001b[1;32m     29\u001b[0m \u001b[0;32mdef\u001b[0m \u001b[0mget_edge_features\u001b[0m\u001b[0;34m(\u001b[0m\u001b[0membedding_file\u001b[0m\u001b[0;34m,\u001b[0m\u001b[0medges_filename\u001b[0m\u001b[0;34m,\u001b[0m\u001b[0mfeature_file\u001b[0m\u001b[0;34m)\u001b[0m\u001b[0;34m:\u001b[0m\u001b[0;34m\u001b[0m\u001b[0m\n\u001b[0;32m---> 30\u001b[0;31m     \u001b[0membeddings\u001b[0m\u001b[0;34m,\u001b[0m\u001b[0membedding_dimension\u001b[0m\u001b[0;34m=\u001b[0m\u001b[0mread_embeddings\u001b[0m\u001b[0;34m(\u001b[0m\u001b[0membedding_file\u001b[0m\u001b[0;34m)\u001b[0m\u001b[0;34m\u001b[0m\u001b[0m\n\u001b[0m\u001b[1;32m     31\u001b[0m     \u001b[0mpos_edges\u001b[0m\u001b[0;34m,\u001b[0m\u001b[0mneg_edges\u001b[0m\u001b[0;34m=\u001b[0m\u001b[0mread_edges\u001b[0m\u001b[0;34m(\u001b[0m\u001b[0medges_filename\u001b[0m\u001b[0;34m)\u001b[0m\u001b[0;34m\u001b[0m\u001b[0m\n\u001b[1;32m     32\u001b[0m     \u001b[0;31m#边的特征\u001b[0m\u001b[0;34m\u001b[0m\u001b[0;34m\u001b[0m\u001b[0m\n",
      "\u001b[0;32m<ipython-input-2-47a4bd022fa6>\u001b[0m in \u001b[0;36mread_embeddings\u001b[0;34m(embedding_file)\u001b[0m\n\u001b[1;32m     18\u001b[0m \u001b[0;32mdef\u001b[0m \u001b[0mread_embeddings\u001b[0m\u001b[0;34m(\u001b[0m\u001b[0membedding_file\u001b[0m\u001b[0;34m)\u001b[0m\u001b[0;34m:\u001b[0m\u001b[0;34m\u001b[0m\u001b[0m\n\u001b[1;32m     19\u001b[0m     \u001b[0membeddings\u001b[0m\u001b[0;34m=\u001b[0m\u001b[0;34m{\u001b[0m\u001b[0;34m}\u001b[0m\u001b[0;34m\u001b[0m\u001b[0m\n\u001b[0;32m---> 20\u001b[0;31m     \u001b[0;32mwith\u001b[0m \u001b[0mopen\u001b[0m\u001b[0;34m(\u001b[0m\u001b[0membedding_file\u001b[0m\u001b[0;34m,\u001b[0m \u001b[0;34m'r'\u001b[0m\u001b[0;34m)\u001b[0m \u001b[0;32mas\u001b[0m \u001b[0mf\u001b[0m\u001b[0;34m:\u001b[0m\u001b[0;34m\u001b[0m\u001b[0m\n\u001b[0m\u001b[1;32m     21\u001b[0m         \u001b[0mfirst_line\u001b[0m\u001b[0;34m=\u001b[0m\u001b[0mf\u001b[0m\u001b[0;34m.\u001b[0m\u001b[0mreadline\u001b[0m\u001b[0;34m(\u001b[0m\u001b[0;34m)\u001b[0m\u001b[0;34m\u001b[0m\u001b[0m\n\u001b[1;32m     22\u001b[0m         \u001b[0mnode_nums\u001b[0m\u001b[0;34m,\u001b[0m\u001b[0mdimension\u001b[0m\u001b[0;34m=\u001b[0m\u001b[0mfirst_line\u001b[0m\u001b[0;34m.\u001b[0m\u001b[0msplit\u001b[0m\u001b[0;34m(\u001b[0m\u001b[0;34m)\u001b[0m\u001b[0;34m\u001b[0m\u001b[0m\n",
      "\u001b[0;31mFileNotFoundError\u001b[0m: [Errno 2] No such file or directory: 'embeddings/all_connectiveSample0.9_sdne128.txt'"
     ]
    }
   ],
   "source": [
    "#批量提取网络表征特征\n",
    "posSampleRatio = [x/10 for x in range(1, 10)]\n",
    "embeddingMethhods=[\"node2vec\",\"deepwalk\",\"line\",\"sdne\"]\n",
    "filePredix = \"network_edgelist/connectiveSample_edges\"\n",
    "for method in embeddingMethhods:\n",
    "    for sampleRatio in posSampleRatio:\n",
    "        connectiveSample_edges=\"network_edgelist/connectiveSample_edges\" + str(sampleRatio)+\".txt\"\n",
    "        connectiveSample_embedding=\"embeddings/all_connectiveSample\"+str(sampleRatio)+\"_\"+method+\"128.txt\"  \n",
    "\n",
    "        connectiveSample_feature=\"train_data/all_connectiveSample\"+str(sampleRatio)+\"_\"+method+\"128.csv\"\n",
    "        train_data=get_edge_features(connectiveSample_embedding,connectiveSample_edges,connectiveSample_feature)"
   ]
  },
  {
   "cell_type": "code",
   "execution_count": 3,
   "metadata": {
    "ExecuteTime": {
     "end_time": "2020-10-07T11:25:22.578997Z",
     "start_time": "2020-10-07T11:22:38.133010Z"
    }
   },
   "outputs": [
    {
     "name": "stdout",
     "output_type": "stream",
     "text": [
      "57358 128\n",
      "57358 128\n"
     ]
    }
   ],
   "source": [
    "#node2vec\n",
    "connectiveSample_edges=\"network_edgelist/connectiveSample_edges0.5.txt\"\n",
    "connectiveSample_embedding=\"embeddings/all_connectiveSample_node2vec128.txt\"\n",
    "connectiveSample_feature=\"train_data/all_connectiveSample_node2vec128.csv\"\n",
    "train_data=get_edge_features(connectiveSample_embedding,connectiveSample_edges,connectiveSample_feature)\n",
    "randomSample_edges=\"network_edgelist/randomSample_edges0.5.txt\"\n",
    "randomSample_embedding=\"embeddings/all_randomSample_node2vec128.txt\"\n",
    "randomSample_feature=\"train_data/all_randomSample_node2vec128.csv\"\n",
    "train_data=get_edge_features(randomSample_embedding,randomSample_edges,randomSample_feature)"
   ]
  },
  {
   "cell_type": "code",
   "execution_count": 4,
   "metadata": {
    "ExecuteTime": {
     "end_time": "2020-10-07T11:27:25.723176Z",
     "start_time": "2020-10-07T11:25:23.082833Z"
    }
   },
   "outputs": [
    {
     "name": "stdout",
     "output_type": "stream",
     "text": [
      "57358 128\n",
      "57358 128\n"
     ]
    }
   ],
   "source": [
    "#deepwalk\n",
    "connectiveSample_edges=\"network_edgelist/connectiveSample_edges0.5.txt\"\n",
    "connectiveSample_embedding=\"embeddings/all_connectiveSample_deepwalk128.txt\"\n",
    "connectiveSample_feature=\"train_data/all_connectiveSample_deepwalk128.csv\"\n",
    "train_data=get_edge_features(connectiveSample_embedding,connectiveSample_edges,connectiveSample_feature)\n",
    "edges_filename_random=\"network_edgelist/randomSample_edges0.5.txt\"\n",
    "embedding_file_random=\"embeddings/all_randomSample_deepwalk128.txt\"\n",
    "feature_file_random=\"train_data/all_randomSample_deepwalk128.csv\"\n",
    "train_data=get_edge_features(embedding_file_random,edges_filename_random,feature_file_random)"
   ]
  },
  {
   "cell_type": "code",
   "execution_count": 5,
   "metadata": {
    "ExecuteTime": {
     "end_time": "2020-10-07T11:54:02.920197Z",
     "start_time": "2020-10-07T11:51:17.432597Z"
    }
   },
   "outputs": [
    {
     "name": "stdout",
     "output_type": "stream",
     "text": [
      "57358 128\n",
      "57358 128\n"
     ]
    }
   ],
   "source": [
    "#line\n",
    "connectiveSample_edges=\"network_edgelist/connectiveSample_edges0.5.txt\"\n",
    "connectiveSample_embedding=\"embeddings/all_connectiveSample_line128.txt\"\n",
    "connectiveSample_feature=\"train_data/all_connectiveSample_line128.csv\"\n",
    "train_data=get_edge_features(connectiveSample_embedding,connectiveSample_edges,connectiveSample_feature)\n",
    "edges_filename_random=\"network_edgelist/randomSample_edges0.5.txt\"\n",
    "embedding_file_random=\"embeddings/all_randomSample_line128.txt\"\n",
    "feature_file_random=\"train_data/all_randomSample_line128.csv\"\n",
    "train_data=get_edge_features(embedding_file_random,edges_filename_random,feature_file_random)"
   ]
  },
  {
   "cell_type": "code",
   "execution_count": 17,
   "metadata": {
    "ExecuteTime": {
     "end_time": "2020-09-24T00:45:08.586804Z",
     "start_time": "2020-09-24T00:43:58.415990Z"
    }
   },
   "outputs": [
    {
     "name": "stdout",
     "output_type": "stream",
     "text": [
      "22021 128\n",
      "22021 128\n"
     ]
    }
   ],
   "source": [
    "#hope(超内存)\n",
    "# connectiveSample_edges=\"network_edgelist/connectiveSample_edges0.3.txt\"\n",
    "# connectiveSample_embedding=\"embeddings/all_connectiveSample_hope128.txt\"\n",
    "# connectiveSample_feature=\"train_data/all_connectiveSample_hope128.csv\"\n",
    "# train_data=get_edge_features(connectiveSample_embedding,connectiveSample_edges,connectiveSample_feature)\n",
    "# edges_filename_random=\"network_edgelist/randomSample_edges0.3.txt\"\n",
    "# embedding_file_random=\"embeddings/all_randomSample_hope128.txt\"\n",
    "# feature_file_random=\"train_data/all_randomSample_hope128.csv\"\n",
    "# train_data=get_edge_features(embedding_file_random,edges_filename_random,feature_file_random)"
   ]
  },
  {
   "cell_type": "code",
   "execution_count": 6,
   "metadata": {
    "ExecuteTime": {
     "end_time": "2020-10-07T13:39:41.741883Z",
     "start_time": "2020-10-07T13:37:52.743065Z"
    }
   },
   "outputs": [
    {
     "name": "stdout",
     "output_type": "stream",
     "text": [
      "57358 128\n",
      "57358 128\n"
     ]
    }
   ],
   "source": [
    "#sdne\n",
    "connectiveSample_edges=\"network_edgelist/connectiveSample_edges0.5.txt\"\n",
    "connectiveSample_embedding=\"embeddings/all_connectiveSample_sdne128.txt\"\n",
    "connectiveSample_feature=\"train_data/all_connectiveSample_sdne128.csv\"\n",
    "train_data=get_edge_features(connectiveSample_embedding,connectiveSample_edges,connectiveSample_feature)\n",
    "edges_filename_random=\"network_edgelist/randomSample_edges0.5.txt\"\n",
    "embedding_file_random=\"embeddings/all_randomSample_sdne128.txt\"\n",
    "feature_file_random=\"train_data/all_randomSample_sdne128.csv\"\n",
    "train_data=get_edge_features(embedding_file_random,edges_filename_random,feature_file_random)"
   ]
  },
  {
   "cell_type": "code",
   "execution_count": null,
   "metadata": {
    "collapsed": true
   },
   "outputs": [],
   "source": [
    "# #lap\n",
    "# connectiveSample_edges=\"network_edgelist/connectiveSample_edges0.3.txt\"\n",
    "# connectiveSample_embedding=\"embeddings/all_connectiveSample_lap128.txt\"\n",
    "# connectiveSample_feature=\"train_data/all_connectiveSample_lap128.csv\"\n",
    "# train_data=get_edge_features(connectiveSample_embedding,connectiveSample_edges,connectiveSample_feature)\n",
    "# edges_filename_random=\"network_edgelist/randomSample_edges0.3.txt\"\n",
    "# embedding_file_random=\"embeddings/all_randomSample_lap128.txt\"\n",
    "# feature_file_random=\"train_data/all_randomSample_lap128.csv\"\n",
    "# train_data=get_edge_features(embedding_file_random,edges_filename_random,feature_file_random)"
   ]
  },
  {
   "cell_type": "code",
   "execution_count": 14,
   "metadata": {
    "ExecuteTime": {
     "end_time": "2020-10-07T09:09:55.609381Z",
     "start_time": "2020-10-07T09:07:49.734534Z"
    }
   },
   "outputs": [
    {
     "name": "stdout",
     "output_type": "stream",
     "text": [
      "39425 128\n",
      "39425 128\n"
     ]
    }
   ],
   "source": [
    "#gf\n",
    "connectiveSample_edges=\"network_edgelist/connectiveSample_edges0.5.txt\"\n",
    "connectiveSample_embedding=\"embeddings/dgsp_connectiveSample_gf128.txt\"\n",
    "connectiveSample_feature=\"train_data/dgsp_connectiveSample_gf128.csv\"\n",
    "train_data=get_edge_features(connectiveSample_embedding,connectiveSample_edges,connectiveSample_feature)\n",
    "edges_filename_random=\"network_edgelist/randomSample_edges0.5.txt\"\n",
    "embedding_file_random=\"embeddings/dgsp_randomSample_gf128.txt\"\n",
    "feature_file_random=\"train_data/dgsp_randomSample_gf128.csv\"\n",
    "train_data=get_edge_features(embedding_file_random,edges_filename_random,feature_file_random)"
   ]
  },
  {
   "cell_type": "code",
   "execution_count": 49,
   "metadata": {
    "ExecuteTime": {
     "end_time": "2020-09-27T13:10:24.514418Z",
     "start_time": "2020-09-27T13:10:24.512093Z"
    },
    "collapsed": true
   },
   "outputs": [],
   "source": [
    "#-----------下面是斯坦福公开数据集-----------------------------------------------------------"
   ]
  },
  {
   "cell_type": "code",
   "execution_count": 68,
   "metadata": {
    "ExecuteTime": {
     "end_time": "2020-09-27T14:44:56.142128Z",
     "start_time": "2020-09-27T14:44:23.094392Z"
    }
   },
   "outputs": [
    {
     "name": "stdout",
     "output_type": "stream",
     "text": [
      "7813 128\n",
      "7813 128\n"
     ]
    }
   ],
   "source": [
    "#node2vec\n",
    "connectiveSample_edges=\"stanford_data/connectiveSample_edges0.3.txt\"\n",
    "connectiveSample_embedding=\"stanford_data/dg_connectiveSample_node2vec128.txt\"\n",
    "connectiveSample_feature=\"stanford_data/dg_connectiveSample_node2vec128.csv\"\n",
    "train_data=get_edge_features(connectiveSample_embedding,connectiveSample_edges,connectiveSample_feature)\n",
    "edges_filename_random=\"stanford_data/randomSample_edges0.3.txt\"\n",
    "embedding_file_random=\"stanford_data/dg_randomSample_node2vec128.txt\"\n",
    "feature_file_random=\"stanford_data/dg_randomSample_node2vec128.csv\"\n",
    "train_data=get_edge_features(embedding_file_random,edges_filename_random,feature_file_random)"
   ]
  },
  {
   "cell_type": "code",
   "execution_count": 52,
   "metadata": {
    "ExecuteTime": {
     "end_time": "2020-09-27T13:38:26.266101Z",
     "start_time": "2020-09-27T13:37:53.496953Z"
    }
   },
   "outputs": [
    {
     "name": "stdout",
     "output_type": "stream",
     "text": [
      "7813 128\n",
      "7813 128\n"
     ]
    }
   ],
   "source": [
    "#deepwalk\n",
    "connectiveSample_edges=\"stanford_data/connectiveSample_edges0.3.txt\"\n",
    "connectiveSample_embedding=\"stanford_data/dg_connectiveSample_deepwalk128.txt\"\n",
    "connectiveSample_feature=\"stanford_data/dg_connectiveSample_deepwalk128.csv\"\n",
    "train_data=get_edge_features(connectiveSample_embedding,connectiveSample_edges,connectiveSample_feature)\n",
    "edges_filename_random=\"stanford_data/randomSample_edges0.3.txt\"\n",
    "embedding_file_random=\"stanford_data/dg_randomSample_deepwalk128.txt\"\n",
    "feature_file_random=\"stanford_data/dg_randomSample_deepwalk128.csv\"\n",
    "train_data=get_edge_features(embedding_file_random,edges_filename_random,feature_file_random)"
   ]
  },
  {
   "cell_type": "code",
   "execution_count": 57,
   "metadata": {
    "ExecuteTime": {
     "end_time": "2020-09-27T14:13:01.001101Z",
     "start_time": "2020-09-27T14:12:36.274010Z"
    }
   },
   "outputs": [
    {
     "name": "stdout",
     "output_type": "stream",
     "text": [
      "7813 64\n",
      "7813 64\n"
     ]
    }
   ],
   "source": [
    "#line\n",
    "connectiveSample_edges=\"stanford_data/connectiveSample_edges0.3.txt\"\n",
    "connectiveSample_embedding=\"stanford_data/dg_connectiveSample_line128.txt\"\n",
    "connectiveSample_feature=\"stanford_data/dg_connectiveSample_line128.csv\"\n",
    "train_data=get_edge_features(connectiveSample_embedding,connectiveSample_edges,connectiveSample_feature)\n",
    "edges_filename_random=\"stanford_data/randomSample_edges0.3.txt\"\n",
    "embedding_file_random=\"stanford_data/dg_randomSample_line128.txt\"\n",
    "feature_file_random=\"stanford_data/dg_randomSample_line128.csv\"\n",
    "train_data=get_edge_features(embedding_file_random,edges_filename_random,feature_file_random)"
   ]
  },
  {
   "cell_type": "code",
   "execution_count": 54,
   "metadata": {
    "ExecuteTime": {
     "end_time": "2020-09-27T13:40:38.566152Z",
     "start_time": "2020-09-27T13:39:53.244093Z"
    }
   },
   "outputs": [
    {
     "name": "stdout",
     "output_type": "stream",
     "text": [
      "7813 128\n",
      "7813 128\n"
     ]
    }
   ],
   "source": [
    "#hope\n",
    "connectiveSample_edges=\"stanford_data/connectiveSample_edges0.3.txt\"\n",
    "connectiveSample_embedding=\"stanford_data/dg_connectiveSample_hope128.txt\"\n",
    "connectiveSample_feature=\"stanford_data/dg_connectiveSample_hope128.csv\"\n",
    "train_data=get_edge_features(connectiveSample_embedding,connectiveSample_edges,connectiveSample_feature)\n",
    "edges_filename_random=\"stanford_data/randomSample_edges0.3.txt\"\n",
    "embedding_file_random=\"stanford_data/dg_randomSample_hope128.txt\"\n",
    "feature_file_random=\"stanford_data/dg_randomSample_hope128.csv\"\n",
    "train_data=get_edge_features(embedding_file_random,edges_filename_random,feature_file_random)"
   ]
  },
  {
   "cell_type": "code",
   "execution_count": 55,
   "metadata": {
    "ExecuteTime": {
     "end_time": "2020-09-27T13:41:12.667951Z",
     "start_time": "2020-09-27T13:40:40.087540Z"
    }
   },
   "outputs": [
    {
     "name": "stdout",
     "output_type": "stream",
     "text": [
      "7813 128\n",
      "7813 128\n"
     ]
    }
   ],
   "source": [
    "#sdne\n",
    "connectiveSample_edges=\"stanford_data/connectiveSample_edges0.3.txt\"\n",
    "connectiveSample_embedding=\"stanford_data/dg_connectiveSample_sdne128.txt\"\n",
    "connectiveSample_feature=\"stanford_data/dg_connectiveSample_sdne128.csv\"\n",
    "train_data=get_edge_features(connectiveSample_embedding,connectiveSample_edges,connectiveSample_feature)\n",
    "edges_filename_random=\"stanford_data/randomSample_edges0.3.txt\"\n",
    "embedding_file_random=\"stanford_data/dg_randomSample_sdne128.txt\"\n",
    "feature_file_random=\"stanford_data/dg_randomSample_sdne128.csv\"\n",
    "train_data=get_edge_features(embedding_file_random,edges_filename_random,feature_file_random)"
   ]
  },
  {
   "cell_type": "code",
   "execution_count": 56,
   "metadata": {
    "ExecuteTime": {
     "end_time": "2020-09-27T13:41:53.290977Z",
     "start_time": "2020-09-27T13:41:14.106408Z"
    }
   },
   "outputs": [
    {
     "name": "stdout",
     "output_type": "stream",
     "text": [
      "7813 128\n",
      "7813 128\n"
     ]
    }
   ],
   "source": [
    "#lap\n",
    "connectiveSample_edges=\"stanford_data/connectiveSample_edges0.3.txt\"\n",
    "connectiveSample_embedding=\"stanford_data/dg_connectiveSample_lap128.txt\"\n",
    "connectiveSample_feature=\"stanford_data/dg_connectiveSample_lap128.csv\"\n",
    "train_data=get_edge_features(connectiveSample_embedding,connectiveSample_edges,connectiveSample_feature)\n",
    "edges_filename_random=\"stanford_data/randomSample_edges0.3.txt\"\n",
    "embedding_file_random=\"stanford_data/dg_randomSample_lap128.txt\"\n",
    "feature_file_random=\"stanford_data/dg_randomSample_lap128.csv\"\n",
    "train_data=get_edge_features(embedding_file_random,edges_filename_random,feature_file_random)"
   ]
  },
  {
   "cell_type": "code",
   "execution_count": 50,
   "metadata": {
    "ExecuteTime": {
     "end_time": "2020-09-27T13:36:31.735737Z",
     "start_time": "2020-09-27T13:35:54.058266Z"
    }
   },
   "outputs": [
    {
     "name": "stdout",
     "output_type": "stream",
     "text": [
      "7813 128\n",
      "7813 128\n"
     ]
    }
   ],
   "source": [
    "#gf\n",
    "connectiveSample_edges=\"stanford_data/connectiveSample_edges0.3.txt\"\n",
    "connectiveSample_embedding=\"stanford_data/dg_connectiveSample_gf128.txt\"\n",
    "connectiveSample_feature=\"stanford_data/dg_connectiveSample_gf128.csv\"\n",
    "train_data=get_edge_features(connectiveSample_embedding,connectiveSample_edges,connectiveSample_feature)\n",
    "edges_filename_random=\"stanford_data/randomSample_edges0.3.txt\"\n",
    "embedding_file_random=\"stanford_data/dg_randomSample_gf128.txt\"\n",
    "feature_file_random=\"stanford_data/dg_randomSample_gf128.csv\"\n",
    "train_data=get_edge_features(embedding_file_random,edges_filename_random,feature_file_random)"
   ]
  },
  {
   "cell_type": "code",
   "execution_count": null,
   "metadata": {
    "collapsed": true
   },
   "outputs": [],
   "source": [
    "G_connect=nx.read_adjlist(\"network_edgelist/all_network_adjlist_connective.txt\")\n",
    "trainEdgeFile_connect=\"network_edgelist/connectiveSample_edges0.5.txt\"\n",
    "savePath_connect=\"train_data/struct_connective_traindata.csv\"\n",
    "struct_train_data_connect=extract_struct_feature(G_connect,trainEdgeFile_connect,savePath_connect)\n",
    "\n",
    "G_random=nx.read_adjlist(\"network_edgelist/all_network_adjlist_random.txt\")\n",
    "trainEdgeFile_random=\"network_edgelist/randomSample_edges0.5.txt\"\n",
    "savePath_random=\"train_data/struct_random_traindata.csv\"\n",
    "struct_train_data_random=extract_struct_feature(G_random,trainEdgeFile_random,savePath_random)"
   ]
  },
  {
   "cell_type": "code",
   "execution_count": 12,
   "metadata": {
    "ExecuteTime": {
     "end_time": "2020-09-23T13:34:21.317464Z",
     "start_time": "2020-09-23T13:33:53.146566Z"
    }
   },
   "outputs": [
    {
     "name": "stdout",
     "output_type": "stream",
     "text": [
      "begin\n",
      "22021 128\n"
     ]
    }
   ],
   "source": [
    "print(\"begin\")\n",
    "# edges_filename=\"network_edgelist/train_edges_1.0.txt\"\n",
    "edges_filename=\"network_edgelist/train_edges_connective.txt\"\n",
    "# embedding_file=\"embeddings/all_network_node2vec128.txt\"\n",
    "# feature_file=\"train_data/allnet_node2vec128_train_data.csv\"\n",
    "# train_data=get_edge_features(embedding_file,edges_filename,feature_file)\n",
    "\n",
    "# embedding_file=\"embeddings/all_network_deepwalk128.txt\"\n",
    "\n",
    "# feature_file=\"train_data/allnet_deepwalk128_train_data.csv\"\n",
    "embedding_file=\"embeddings/dg_sampledGraph_connective_adjlist_node2vec128.txt\"\n",
    "feature_file=\"train_data/dg_connective_node2vec128_traindata.csv\"\n",
    "train_data=get_edge_features(embedding_file,edges_filename,feature_file)\n",
    "\n",
    "# embedding_file=\"embeddings/all_network_hope128.txt\"\n",
    "# feature_file=\"train_data/allnet_hope128_train_data.csv\"\n",
    "# train_data=get_edge_features(embedding_file,edges_filename,feature_file)\n",
    "\n",
    "# embedding_file=\"embeddings/all_network_line128.txt\"\n",
    "# feature_file=\"train_data/allnet_line128_train_data.csv\"\n",
    "# train_data=get_edge_features(embedding_file,edges_filename,feature_file)\n",
    "\n",
    "# embedding_file=\"embeddings/all_network_sdne128.txt\"\n",
    "# feature_file=\"train_data/allnet_sdne128_train_data.csv\"\n",
    "# train_data=get_edge_features(embedding_file,edges_filename,feature_file)"
   ]
  },
  {
   "cell_type": "code",
   "execution_count": 4,
   "metadata": {
    "ExecuteTime": {
     "end_time": "2020-06-01T13:42:15.823938Z",
     "start_time": "2020-06-01T13:42:15.504979Z"
    },
    "collapsed": true
   },
   "outputs": [],
   "source": [
    "edges_filename=\"network_edgelist/train_edges_1.0.txt\"\n",
    "pos_edges,neg_edges=read_edges(edges_filename)\n",
    "\n",
    "embedding_file=\"embeddings/all_network_node2vec128.txt\"\n",
    "count=0\n",
    "embeddings={}\n",
    "# nodes=set()\n",
    "with open(embedding_file, 'r') as f:\n",
    "    first_line=f.readline()\n",
    "    node_nums,embedding_dimension=first_line.split()\n",
    "    print(\"{} {}\".format(node_nums,embedding_dimension))\n",
    "    for line in f:\n",
    "        line=line.split()\n",
    "        embeddings[line[0]]=line[1:]\n",
    "        count+=1\n",
    "#         node=line[0]\n",
    "#         embedding=line[1:]\n",
    "#         print(embedding)\n",
    "#         nodes.add(node)\n",
    "#         print(node)\n",
    "\n",
    "# print(embeddings['31812'])\n",
    "print(count)\n",
    "\n",
    "#边的特征\n",
    "#提取正例特征\n",
    "pos_features=[]\n",
    "label=[]\n",
    "for disease_id,gene_id in pos_edges:\n",
    "    pos_features.append(np.hstack((embeddings[str(disease_id)],embeddings[str(gene_id)])))\n",
    "    label.append(1)\n",
    "\n",
    "#提取负例特征\n",
    "neg_features=[]\n",
    "for disease_id,gene_id in neg_edges:\n",
    "    neg_features.append(np.hstack((embeddings[str(disease_id)],embeddings[str(gene_id)])))\n",
    "    label.append(0)\n",
    "train_features=pos_features+neg_features"
   ]
  },
  {
   "cell_type": "code",
   "execution_count": 29,
   "metadata": {
    "ExecuteTime": {
     "end_time": "2020-06-01T14:28:21.351206Z",
     "start_time": "2020-06-01T14:28:07.472048Z"
    },
    "collapsed": true
   },
   "outputs": [],
   "source": [
    "#边的特征\n",
    "#提取正例特征\n",
    "pos_features=[]\n",
    "label=[]\n",
    "for disease_id,gene_id in pos_edges:\n",
    "    pos_features.append(np.hstack((embeddings[str(disease_id)],embeddings[str(gene_id)])))\n",
    "    label.append(1)\n",
    "\n",
    "#提取负例特征\n",
    "neg_features=[]\n",
    "for disease_id,gene_id in neg_edges:\n",
    "    neg_features.append(np.hstack((embeddings[str(disease_id)],embeddings[str(gene_id)])))\n",
    "    label.append(0)\n",
    "train_features=pos_features+neg_features"
   ]
  },
  {
   "cell_type": "code",
   "execution_count": 30,
   "metadata": {
    "ExecuteTime": {
     "end_time": "2020-06-01T14:35:53.786122Z",
     "start_time": "2020-06-01T14:35:50.145604Z"
    }
   },
   "outputs": [
    {
     "name": "stdout",
     "output_type": "stream",
     "text": [
      "begin\n",
      "130820:256\n",
      "130820:256\n",
      "261640\n",
      "(261640, 256)\n"
     ]
    }
   ],
   "source": [
    "print(\"begin\")\n",
    "print('{}:{}'.format(len(pos_features),len(pos_features[0])))\n",
    "print('{}:{}'.format(len(neg_features),len(neg_features[0])))\n",
    "print(len(label))\n",
    "print(np.array(train_features).shape)"
   ]
  },
  {
   "cell_type": "code",
   "execution_count": null,
   "metadata": {
    "ExecuteTime": {
     "end_time": "2020-06-01T14:35:58.859186Z",
     "start_time": "2020-06-01T14:35:50.982Z"
    },
    "collapsed": true
   },
   "outputs": [],
   "source": [
    "print(\"begin\")\n",
    "#基于边的特征\n",
    "feature_columns=['n2v_'+str(i) for i in range(representation_size*2)]\n",
    "train_data=pd.DataFrame(train_features,columns=feature_columns)\n",
    "train_data['label']=label\n",
    "train_data.to_csv(\"train_data/allnet128_train_data.csv\",index = False)\n",
    "train_data.head()"
   ]
  },
  {
   "cell_type": "code",
   "execution_count": null,
   "metadata": {
    "collapsed": true
   },
   "outputs": [],
   "source": []
  }
 ],
 "metadata": {
  "kernelspec": {
   "display_name": "Python [conda env:OpenNE]",
   "language": "python",
   "name": "conda-env-OpenNE-py"
  },
  "language_info": {
   "codemirror_mode": {
    "name": "ipython",
    "version": 3
   },
   "file_extension": ".py",
   "mimetype": "text/x-python",
   "name": "python",
   "nbconvert_exporter": "python",
   "pygments_lexer": "ipython3",
   "version": "3.6.2"
  },
  "varInspector": {
   "cols": {
    "lenName": 16,
    "lenType": 16,
    "lenVar": 40
   },
   "kernels_config": {
    "python": {
     "delete_cmd_postfix": "",
     "delete_cmd_prefix": "del ",
     "library": "var_list.py",
     "varRefreshCmd": "print(var_dic_list())"
    },
    "r": {
     "delete_cmd_postfix": ") ",
     "delete_cmd_prefix": "rm(",
     "library": "var_list.r",
     "varRefreshCmd": "cat(var_dic_list()) "
    }
   },
   "types_to_exclude": [
    "module",
    "function",
    "builtin_function_or_method",
    "instance",
    "_Feature"
   ],
   "window_display": false
  }
 },
 "nbformat": 4,
 "nbformat_minor": 4
}
