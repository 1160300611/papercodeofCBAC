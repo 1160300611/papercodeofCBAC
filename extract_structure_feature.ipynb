{
 "cells": [
  {
   "cell_type": "code",
   "execution_count": 1,
   "metadata": {
    "ExecuteTime": {
     "end_time": "2020-11-03T11:12:47.925465Z",
     "start_time": "2020-11-03T11:12:47.000595Z"
    }
   },
   "outputs": [
    {
     "name": "stderr",
     "output_type": "stream",
     "text": [
      "/home/wumx/anaconda3/envs/OpenNE/lib/python3.6/site-packages/sklearn/ensemble/weight_boosting.py:29: DeprecationWarning: numpy.core.umath_tests is an internal NumPy module and should not be imported. It will be removed in a future NumPy release.\n",
      "  from numpy.core.umath_tests import inner1d\n"
     ]
    }
   ],
   "source": [
    "from __future__ import division\n",
    "from __future__ import print_function\n",
    "import numpy as np\n",
    "import pandas as pd\n",
    "from itertools import islice\n",
    "import pickle\n",
    "import networkx as nx\n",
    "from networkx.algorithms import community\n",
    "from networkx.algorithms.community import greedy_modularity_communities\n",
    "from networkx.algorithms.community import k_clique_communities\n",
    "from networkx.algorithms.community import k_clique_communities\n",
    "import matplotlib.pyplot as plt \n",
    "import scipy.sparse as sp\n",
    "import random\n",
    "from xgboost import XGBClassifier\n",
    "from sklearn.linear_model import LogisticRegression\n",
    "from sklearn.model_selection import train_test_split,cross_val_score\n",
    "from sklearn.metrics import accuracy_score,roc_auc_score,roc_curve,auc\n",
    "from sklearn.ensemble import RandomForestClassifier\n",
    "from sklearn import preprocessing\n",
    "from sklearn.utils import shuffle\n",
    "from sklearn.svm import SVC\n",
    "from sklearn import metrics,model_selection,preprocessing\n",
    "import warnings\n",
    "warnings.filterwarnings(\"ignore\")\n",
    "random.seed(32)\n",
    "np.random.seed(32)\n"
   ]
  },
  {
   "cell_type": "code",
   "execution_count": 2,
   "metadata": {
    "ExecuteTime": {
     "end_time": "2020-11-03T11:12:48.930832Z",
     "start_time": "2020-11-03T11:12:47.939336Z"
    },
    "collapsed": true
   },
   "outputs": [],
   "source": [
    "# 读取文件中的正负边\n",
    "def read_edges(filename):\n",
    "    pos_edges = set()\n",
    "    neg_edges = set()\n",
    "    with open(filename, 'r') as f:\n",
    "        for line in f:\n",
    "            words = line.split()\n",
    "            node1 = words[0]\n",
    "            node2 = words[1]\n",
    "            label = words[2]\n",
    "            if label == '1':\n",
    "                pos_edges.add((node1, node2))\n",
    "            else:\n",
    "                neg_edges.add((node1, node2))\n",
    "#     print(\"{}\\n{}\".format(len(nodeList1),len(nodeList2)))\n",
    "    return list(pos_edges), list(neg_edges)\n",
    "\n",
    "def read_embeddings(embedding_file):\n",
    "    embeddings={}\n",
    "    with open(embedding_file, 'r') as f:\n",
    "        first_line=f.readline()\n",
    "        node_nums,dimension=first_line.split()\n",
    "        print(\"{} {}\".format(node_nums,dimension))\n",
    "        for line in f:\n",
    "            line=line.split()\n",
    "            embeddings[line[0]]=line[1:]\n",
    "    return embeddings,int(dimension)\n",
    "\n",
    "def get_embedding_features(embedding_file,pos_edges,neg_edges):\n",
    "    embeddings,embedding_dimension=read_embeddings(embedding_file)\n",
    "    #边的特征\n",
    "    #提取正例特征\n",
    "    pos_embedding_features=[]\n",
    "    label=[]\n",
    "    for edge in pos_edges:\n",
    "        if edge[0][0]=='C' and len(edge[0])==8:\n",
    "            disease_id,gene_id=edge\n",
    "        else:\n",
    "            gene_id,disease_id=edge\n",
    "        #print(edge)\n",
    "        pos_embedding_features.append(np.hstack((embeddings[disease_id],embeddings[gene_id])))\n",
    "        label.append(1)\n",
    "\n",
    "    #提取负例特征\n",
    "    neg_embedding_features=[]\n",
    "    for edge in neg_edges:\n",
    "        if edge[0][0]=='C' and len(edge[0])==8:\n",
    "            disease_id,gene_id=edge\n",
    "        else:\n",
    "            gene_id,disease_id=edge\n",
    "        #print(edge)\n",
    "        neg_embedding_features.append(np.hstack((embeddings[disease_id],embeddings[gene_id])))\n",
    "        label.append(0)\n",
    "    train_embedding_features=np.vstack((pos_embedding_features,neg_embedding_features))\n",
    "    return train_embedding_features\n",
    "\n",
    "#加载网络\n",
    "def loadNet(fileName):\n",
    "    edges=set()\n",
    "    with open(fileName, 'r') as f:\n",
    "        for line in f:\n",
    "            words = line.split()\n",
    "            edges.add((words[0], words[1]))\n",
    "    return edges\n",
    "\n",
    "\n",
    "def all_metric(model,X_test,y_test):\n",
    "    y_prob = model.predict_proba(X_test)\n",
    "    f1=metrics.f1_score(y_test,model.predict(X_test))\n",
    "    print(\"f1:{}\".format(f1))\n",
    "    y_test_prob=model.predict_proba(X_test)   #y_test_prob.shape=[n_samples, n_classes]\n",
    "    fpr, tpr, _ = roc_curve(y_test, y_test_prob[:,1])\n",
    "    auc=metrics.auc(fpr,tpr)\n",
    "    print(\"auc:{}\".format(auc))\n",
    "    plt.title('ROC Validation')\n",
    "    plt.plot(fpr, tpr, 'b', label='AUC = %0.2f' % auc)\n",
    "    plt.legend(loc='lower right')\n",
    "    plt.plot([0, 1], [0, 1], 'r--')\n",
    "    plt.xlim([0, 1])\n",
    "    plt.ylim([0, 1])\n",
    "    plt.ylabel('True Positive Rate')\n",
    "    plt.xlabel('False Positive Rate')\n",
    "    plt.show()\n",
    "    return \n",
    "    \n",
    "def run(model,train_data_file,feature_columns,test_size):\n",
    "    train_data=pd.read_csv(train_data_file)\n",
    "    train_data = shuffle(train_data)\n",
    "    X = train_data[feature_columns]\n",
    "    Y = train_data['label']\n",
    "#     X = preprocessing.scale(X)\n",
    "    # split data into train and test sets\n",
    "    X_train, X_test, y_train, y_test = train_test_split(X, Y, test_size=test_size, random_state=7)\n",
    "    model.fit(X_train, y_train)\n",
    "    y_pred = model.predict(X_test)\n",
    "    y_prob = model.predict_proba(X_test)\n",
    "    predictions = [round(value) for value in y_pred]\n",
    "    # evaluate predictions\n",
    "    accuracy = accuracy_score(y_test, predictions)\n",
    "    print(\"Accuracy: %.2f%%\" % (accuracy * 100.0))\n",
    "    all_metric(model,X_test,y_test)\n",
    "    \n",
    "def extract_struct_feature(G,trainEdgeFile,savePath):\n",
    "    degree = dict(G.degree())  # 返回所有节点的度\n",
    "    # degree_connect=dict(degree_connect)\n",
    "    centrality=nx.degree_centrality(G)\n",
    "    cluster_coefficient=nx.clustering(G)\n",
    "    pos_edges,neg_edges=read_edges(trainEdgeFile)\n",
    "    \n",
    "    pos_ra=list(nx.resource_allocation_index(G,pos_edges))\n",
    "    pos_jc=list(nx.jaccard_coefficient(G,pos_edges))\n",
    "    pos_aa=list(nx.adamic_adar_index(G,pos_edges))\n",
    "    pos_pa=list(nx.preferential_attachment(G,pos_edges))\n",
    "    # pos_cn=list(nx.common_neighbor_centrality (G,pos_edges)) #运行时间长\n",
    "    # pos_rash=list(nx.ra_index_soundarajan_hopcroft(G,pos_edges))   需要社区信息\n",
    "    # pos_wic=list(nx.within_inter_cluster(G,pos_edges)) 需要社区信息\n",
    "    pos_ra_val=[val for node1,node2,val in pos_ra]\n",
    "    pos_jc_val=[val for node1,node2,val in pos_jc]\n",
    "    pos_pa_val=[val for node1,node2,val in pos_pa]\n",
    "    pos_edge_feature=np.array([pos_ra_val,pos_jc_val,pos_pa_val]).T\n",
    "    \n",
    "    neg_ra=list(nx.resource_allocation_index(G,neg_edges))\n",
    "    neg_jc=list(nx.jaccard_coefficient(G,neg_edges))\n",
    "    neg_pa=list(nx.preferential_attachment(G,neg_edges))\n",
    "    neg_ra_val=[val for node1,node2,val in neg_ra]\n",
    "    neg_jc_val=[val for node1,node2,val in neg_jc]\n",
    "    neg_pa_val=[val for node1,node2,val in neg_pa]\n",
    "    neg_edge_feature=np.array([neg_ra_val,neg_jc_val,neg_pa_val]).T\n",
    "    \n",
    "    #节点特征提取\n",
    "    # 提取正例特征\n",
    "    pos_node_features = []\n",
    "    label = []\n",
    "    for edge in pos_edges:\n",
    "        feature=[]\n",
    "        if edge[0][0] == 'C' and len(edge[0]) == 8:\n",
    "            disease_id, gene_id = edge\n",
    "        else:\n",
    "            gene_id, disease_id = edge\n",
    "        pos_node_features.append((degree[disease_id], degree[gene_id],centrality[disease_id], centrality[gene_id],cluster_coefficient[disease_id], cluster_coefficient[gene_id]))\n",
    "        label.append(1)\n",
    "     # 提取负例特征\n",
    "    neg_node_features = []\n",
    "    for edge in neg_edges:\n",
    "        if edge[0][0] == 'C' and len(edge[0]) == 8:\n",
    "            disease_id, gene_id = edge\n",
    "        else:\n",
    "            gene_id, disease_id = edge\n",
    "        neg_node_features.append((degree[disease_id], degree[gene_id],centrality[disease_id], centrality[gene_id],cluster_coefficient[disease_id], cluster_coefficient[gene_id]))\n",
    "        label.append(0)\n",
    "        \n",
    "    pos_node_features=np.array(pos_node_features)\n",
    "    pos_struct_features=np.hstack((pos_node_features,pos_edge_feature))\n",
    "    neg_node_features=np.array(neg_node_features)\n",
    "    neg_struct_features=np.hstack((neg_node_features,neg_edge_feature))\n",
    "    struct_features = np.vstack((pos_struct_features,neg_struct_features))\n",
    "    # 基于边的特征\n",
    "    feature_columns = [\"degree1\",\"degree2\",\"centrality1\",\"centrality2\",\"cluster_coefficient1\",\"cluster_coefficient2\",\"resource_allocation\",\"jaccard_coefficient\",\"preferential_attachment\"]\n",
    "    struct_train_data = pd.DataFrame(struct_features, columns=feature_columns)\n",
    "    struct_train_data['label'] = label\n",
    "    struct_train_data.to_csv(savePath, index=False)\n",
    "    return struct_train_data"
   ]
  },
  {
   "cell_type": "code",
   "execution_count": 3,
   "metadata": {
    "ExecuteTime": {
     "end_time": "2020-11-03T11:27:59.392226Z",
     "start_time": "2020-11-03T11:15:25.071685Z"
    },
    "collapsed": true
   },
   "outputs": [],
   "source": [
    "#批量提取网络表征特征\n",
    "negRatio = [0.5,1,1.5,2,2.5,3,3.5,4,4.5]\n",
    "posEdgeFile=\"network_edgelist/connectiveSample_edges0.1.txt\"\n",
    "filePredix=\"network_edgelist/connectiveSample_negPosRatio\"\n",
    "for sampleRatio in negRatio:\n",
    "    network=nx.read_adjlist(\"network_edgelist/allNetworkConnective0.1.txt\")\n",
    "    trainEdgeFile=filePredix+str(sampleRatio)+\".txt\"\n",
    "    savePath=\"train_data/struct_connective_negPosRatio\"+str(sampleRatio)+\".csv\"\n",
    "    struct_train_data=extract_struct_feature(network,trainEdgeFile,savePath)"
   ]
  },
  {
   "cell_type": "code",
   "execution_count": 3,
   "metadata": {
    "ExecuteTime": {
     "end_time": "2020-11-02T12:23:30.041397Z",
     "start_time": "2020-11-02T12:05:43.389544Z"
    },
    "collapsed": true
   },
   "outputs": [],
   "source": [
    "#批量提取网络表征特征\n",
    "posSampleRatio = [x/10 for x in range(1, 10)]\n",
    "filePredix = \"network_edgelist/connectiveSample_edges\"\n",
    "for sampleRatio in posSampleRatio:\n",
    "    network=nx.read_adjlist(\"network_edgelist/allNetworkConnective\"+str(sampleRatio)+\".txt\")\n",
    "    trainEdgeFile=\"network_edgelist/connectiveSample_edges\" + str(sampleRatio)+\".txt\"\n",
    "    savePath=\"train_data/struct_connective_traindata\"+str(sampleRatio)+\".csv\"\n",
    "    struct_train_data=extract_struct_feature(network,trainEdgeFile,savePath)"
   ]
  },
  {
   "cell_type": "code",
   "execution_count": 170,
   "metadata": {
    "ExecuteTime": {
     "end_time": "2020-10-18T13:45:47.753987Z",
     "start_time": "2020-10-18T13:43:34.509290Z"
    },
    "collapsed": true
   },
   "outputs": [],
   "source": [
    "G_connect=nx.read_adjlist(\"network_edgelist/all_network_adjlist_connective.txt\")\n",
    "trainEdgeFile=\"network_edgelist/connectiveSample_edges0.5.txt\"\n",
    "savePath=\"train_data/struct_connective_traindata.csv\"\n",
    "struct_train_data=extract_struct_feature(G_connect,trainEdgeFile,savePath)"
   ]
  },
  {
   "cell_type": "code",
   "execution_count": 171,
   "metadata": {
    "ExecuteTime": {
     "end_time": "2020-10-18T13:46:52.473141Z",
     "start_time": "2020-10-18T13:46:50.249873Z"
    }
   },
   "outputs": [
    {
     "name": "stdout",
     "output_type": "stream",
     "text": [
      "struct_connective_traindata\n",
      "Accuracy: 84.38%\n",
      "f1:0.8453943635331945\n",
      "auc:0.9272547815673837\n"
     ]
    },
    {
     "data": {
      "image/png": "[encoded data removed]",
      "text/plain": [
       "<matplotlib.figure.Figure at 0x7f1f0e6bf978>"
      ]
     },
     "metadata": {},
     "output_type": "display_data"
    }
   ],
   "source": [
    "#未归一化\n",
    "print(\"struct_connective_traindata\")\n",
    "test_size = 0.2\n",
    "model =XGBClassifier()#SVC()# LogisticRegression()\n",
    "feature_columns = [\"degree1\",\"degree2\",\"centrality1\",\"centrality2\",\"cluster_coefficient1\",\"cluster_coefficient2\",\"resource_allocation\",\"jaccard_coefficient\",\"preferential_attachment\"]\n",
    "train_data_file=\"train_data/struct_connective_traindata.csv\"\n",
    "run(model,train_data_file,feature_columns,test_size)"
   ]
  },
  {
   "cell_type": "code",
   "execution_count": null,
   "metadata": {
    "collapsed": true
   },
   "outputs": [],
   "source": [
    "G_random=nx.read_adjlist(\"network_edgelist/all_network_adjlist_random.txt\")\n",
    "trainEdgeFile=\"network_edgelist/connectiveSample_edges0.5.txt\"\n",
    "savePath=\"train_data/struct_connective_traindata.csv\"\n",
    "struct_train_data=extract_struct_feature(G_connect,trainEdgeFile,savePath)"
   ]
  },
  {
   "cell_type": "code",
   "execution_count": 146,
   "metadata": {
    "ExecuteTime": {
     "end_time": "2020-10-16T14:49:40.693577Z",
     "start_time": "2020-10-16T14:49:40.024373Z"
    },
    "collapsed": true
   },
   "outputs": [],
   "source": [
    "data_path='original_data/'\n",
    "dis_gene_file = data_path+'DisGeNet_dis_gene.txt' #疾病基因网络\n",
    "dis_symp_file = data_path+'HPO&Orphanet_dis_symp.txt' #疾病表型网络\n",
    "gene_go_file = data_path+'homo_gene_GO.txt' #基因本体网络\n",
    "ppi_file = data_path+'blab_ppi2016.txt' #ppi网络\n",
    "\n",
    "dis_gene_edges=loadNet(dis_gene_file)\n",
    "dis_symp_edges=loadNet(dis_symp_file)\n",
    "gene_go_edges=loadNet(gene_go_file)\n",
    "ppi_edges=loadNet(ppi_file)"
   ]
  },
  {
   "cell_type": "code",
   "execution_count": 147,
   "metadata": {
    "ExecuteTime": {
     "end_time": "2020-10-16T14:49:46.308005Z",
     "start_time": "2020-10-16T14:49:44.383988Z"
    },
    "collapsed": true
   },
   "outputs": [],
   "source": [
    "G=nx.Graph()\n",
    "G.add_edges_from(dis_gene_edges)\n",
    "G.add_edges_from(dis_symp_edges)\n",
    "G.add_edges_from(gene_go_edges)\n",
    "G.add_edges_from(ppi_edges)"
   ]
  },
  {
   "cell_type": "code",
   "execution_count": 148,
   "metadata": {
    "ExecuteTime": {
     "end_time": "2020-10-16T14:50:58.098153Z",
     "start_time": "2020-10-16T14:49:51.439853Z"
    },
    "collapsed": true
   },
   "outputs": [],
   "source": [
    "# c = list(greedy_modularity_communities(G)) #社区发现\n",
    "#一下返回的均为map格式\n",
    "degree = G.degree()  # 返回所有节点的度\n",
    "degree=dict(degree)\n",
    "centrality=nx.degree_centrality(G)\n",
    "cluster_coefficient=nx.clustering(G)\n",
    "# transitivity=nx.transitivity(G) #值\n",
    "# closeness_centrality=nx.closeness_centrality(G) #运行时间长\n",
    "# betweenness_centrality=nx.betweenness_centrality(G) #运行时间长"
   ]
  },
  {
   "cell_type": "code",
   "execution_count": 149,
   "metadata": {
    "ExecuteTime": {
     "end_time": "2020-10-16T14:51:02.346271Z",
     "start_time": "2020-10-16T14:51:02.129270Z"
    },
    "collapsed": true
   },
   "outputs": [],
   "source": [
    "connectiveSample_edges=\"network_edgelist/connectiveSample_edges0.5.txt\"\n",
    "pos_edges,neg_edges=read_edges(\"network_edgelist/connectiveSample_edges0.5.txt\")"
   ]
  },
  {
   "cell_type": "code",
   "execution_count": 150,
   "metadata": {
    "ExecuteTime": {
     "end_time": "2020-10-16T14:52:49.322090Z",
     "start_time": "2020-10-16T14:51:06.050935Z"
    }
   },
   "outputs": [
    {
     "data": {
      "text/plain": [
       "(65410, 3)"
      ]
     },
     "execution_count": 150,
     "metadata": {},
     "output_type": "execute_result"
    }
   ],
   "source": [
    "pos_ra=list(nx.resource_allocation_index(G,pos_edges))\n",
    "pos_jc=list(nx.jaccard_coefficient(G,pos_edges))\n",
    "pos_aa=list(nx.adamic_adar_index(G,pos_edges))\n",
    "pos_pa=list(nx.preferential_attachment(G,pos_edges))\n",
    "# pos_cn=list(nx.common_neighbor_centrality (G,pos_edges)) #运行时间长\n",
    "# pos_rash=list(nx.ra_index_soundarajan_hopcroft(G,pos_edges))   需要社区信息\n",
    "# pos_wic=list(nx.within_inter_cluster(G,pos_edges)) 需要社区信息\n",
    "\n",
    "pos_ra_val=[val for node1,node2,val in pos_ra]\n",
    "pos_jc_val=[val for node1,node2,val in pos_jc]\n",
    "pos_pa_val=[val for node1,node2,val in pos_pa]\n",
    "pos_edge_feature=np.array([pos_ra_val,pos_jc_val,pos_pa_val]).T\n",
    "pos_edge_feature.shape"
   ]
  },
  {
   "cell_type": "code",
   "execution_count": 151,
   "metadata": {
    "ExecuteTime": {
     "end_time": "2020-10-16T14:53:15.775114Z",
     "start_time": "2020-10-16T14:52:53.345479Z"
    }
   },
   "outputs": [
    {
     "data": {
      "text/plain": [
       "(65410, 3)"
      ]
     },
     "execution_count": 151,
     "metadata": {},
     "output_type": "execute_result"
    }
   ],
   "source": [
    "neg_ra=list(nx.resource_allocation_index(G,neg_edges))\n",
    "neg_jc=list(nx.jaccard_coefficient(G,neg_edges))\n",
    "# neg_aa=list(nx.adamic_adar_index(G,neg_edges)) #除零\n",
    "neg_pa=list(nx.preferential_attachment(G,neg_edges))\n",
    "# neg_cn=list(nx.common_neighbor_centrality (G,neg_edges)) #运行时间长\n",
    "# neg_rash=list(nx.ra_index_soundarajan_hopcroft(G,neg_edges))   需要社区信息\n",
    "# neg_wic=list(nx.within_inter_cluster(G,neg_edges)) 需要社区信息\n",
    "\n",
    "neg_ra_val=[val for node1,node2,val in neg_ra]\n",
    "neg_jc_val=[val for node1,node2,val in neg_jc]\n",
    "neg_pa_val=[val for node1,node2,val in neg_pa]\n",
    "neg_edge_feature=np.array([neg_ra_val,neg_jc_val,neg_pa_val]).T\n",
    "neg_edge_feature.shape"
   ]
  },
  {
   "cell_type": "code",
   "execution_count": 152,
   "metadata": {
    "ExecuteTime": {
     "end_time": "2020-10-16T14:53:20.079176Z",
     "start_time": "2020-10-16T14:53:19.686213Z"
    },
    "collapsed": true
   },
   "outputs": [],
   "source": [
    "#节点特征提取\n",
    "# 提取正例特征\n",
    "pos_node_features = []\n",
    "label = []\n",
    "for edge in pos_edges:\n",
    "    feature=[]\n",
    "    if edge[0][0] == 'C' and len(edge[0]) == 8:\n",
    "        disease_id, gene_id = edge\n",
    "    else:\n",
    "        gene_id, disease_id = edge\n",
    "    pos_node_features.append((degree[disease_id], degree[gene_id],centrality[disease_id], centrality[gene_id],cluster_coefficient[disease_id], cluster_coefficient[gene_id]))\n",
    "    label.append(1)\n",
    "\n",
    " # 提取负例特征\n",
    "neg_node_features = []\n",
    "neg_degree = []  \n",
    "neg_centrality=[]\n",
    "neg_cluster_coefficient=[]\n",
    "for edge in neg_edges:\n",
    "    if edge[0][0] == 'C' and len(edge[0]) == 8:\n",
    "        disease_id, gene_id = edge\n",
    "    else:\n",
    "        gene_id, disease_id = edge\n",
    "    neg_node_features.append((degree[disease_id], degree[gene_id],centrality[disease_id], centrality[gene_id],cluster_coefficient[disease_id], cluster_coefficient[gene_id]))\n",
    "    label.append(0)"
   ]
  },
  {
   "cell_type": "code",
   "execution_count": 154,
   "metadata": {
    "ExecuteTime": {
     "end_time": "2020-10-16T14:55:21.190333Z",
     "start_time": "2020-10-16T14:55:19.113181Z"
    },
    "collapsed": true
   },
   "outputs": [],
   "source": [
    "pos_node_features=np.array(pos_node_features)\n",
    "pos_struct_features=np.hstack((pos_node_features,pos_edge_feature))\n",
    "neg_node_features=np.array(neg_node_features)\n",
    "neg_struct_features=np.hstack((neg_node_features,neg_edge_feature))\n",
    "struct_features = np.vstack((pos_struct_features,neg_struct_features))\n",
    "# 基于边的特征\n",
    "feature_columns = [\"degree1\",\"degree2\",\"centrality1\",\"centrality2\",\"cluster_coefficient1\",\"cluster_coefficient2\",\"resource_allocation\",\"jaccard_coefficient\",\"preferential_attachment\"]\n",
    "struct_train_data = pd.DataFrame(struct_features, columns=feature_columns)\n",
    "struct_train_data['label'] = label\n",
    "feature_file=\"struct_connective_traindata.csv\"\n",
    "struct_train_data.to_csv(feature_file, index=False)"
   ]
  },
  {
   "cell_type": "code",
   "execution_count": null,
   "metadata": {
    "collapsed": true
   },
   "outputs": [],
   "source": []
  },
  {
   "cell_type": "code",
   "execution_count": 133,
   "metadata": {
    "ExecuteTime": {
     "end_time": "2020-10-16T13:31:09.016657Z",
     "start_time": "2020-10-16T13:31:06.567555Z"
    }
   },
   "outputs": [
    {
     "name": "stdout",
     "output_type": "stream",
     "text": [
      "struct_connective_traindata\n",
      "Accuracy: 87.09%\n",
      "f1:0.8701268742791234\n",
      "auc:0.945249367548106\n"
     ]
    },
    {
     "data": {
      "image/png": "[encoded data removed]",
      "text/plain": [
       "<matplotlib.figure.Figure at 0x7f22d1394a90>"
      ]
     },
     "metadata": {},
     "output_type": "display_data"
    }
   ],
   "source": [
    "#归一化\n",
    "print(\"struct_connective_traindata\")\n",
    "test_size = 0.2\n",
    "model =XGBClassifier()#SVC()# LogisticRegression()\n",
    "train_data_file=\"struct_connective_traindata.csv\"\n",
    "run(model,train_data_file,feature_columns,test_size)"
   ]
  },
  {
   "cell_type": "code",
   "execution_count": 131,
   "metadata": {
    "ExecuteTime": {
     "end_time": "2020-10-16T13:30:46.856879Z",
     "start_time": "2020-10-16T13:30:44.433435Z"
    },
    "scrolled": true
   },
   "outputs": [
    {
     "name": "stdout",
     "output_type": "stream",
     "text": [
      "struct_connective_traindata\n",
      "Accuracy: 87.02%\n",
      "f1:0.8687891198516343\n",
      "auc:0.9439003570563745\n"
     ]
    },
    {
     "data": {
      "image/png": "[encoded data removed]",
      "text/plain": [
       "<matplotlib.figure.Figure at 0x7f22d1223550>"
      ]
     },
     "metadata": {},
     "output_type": "display_data"
    }
   ],
   "source": [
    "#未归一化\n",
    "print(\"struct_connective_traindata\")\n",
    "test_size = 0.2\n",
    "model =XGBClassifier()#SVC()# LogisticRegression()\n",
    "train_data_file=\"struct_connective_traindata.csv\"\n",
    "run(model,train_data_file,feature_columns,test_size)"
   ]
  },
  {
   "cell_type": "code",
   "execution_count": 163,
   "metadata": {
    "ExecuteTime": {
     "end_time": "2020-10-16T15:00:15.074028Z",
     "start_time": "2020-10-16T15:00:02.999559Z"
    }
   },
   "outputs": [
    {
     "name": "stdout",
     "output_type": "stream",
     "text": [
      "57358 128\n"
     ]
    }
   ],
   "source": [
    "connectiveSample_embedding=\"embeddings/all_connectiveSample_node2vec128.txt\"\n",
    "embedding_feature=get_embedding_features(connectiveSample_embedding,pos_edges,neg_edges)"
   ]
  },
  {
   "cell_type": "code",
   "execution_count": 164,
   "metadata": {
    "ExecuteTime": {
     "end_time": "2020-10-16T15:00:46.700318Z",
     "start_time": "2020-10-16T15:00:19.042831Z"
    },
    "collapsed": true
   },
   "outputs": [],
   "source": [
    "train_features = np.hstack((struct_features,embedding_feature))\n",
    "# 基于边的特征\n",
    "struct_columns = [\"degree1\",\"degree2\",\"centrality1\",\"centrality2\",\"cluster_coefficient1\",\"cluster_coefficient2\",\"resource_allocation\",\"jaccard_coefficient\",\"preferential_attachment\"]\n",
    "embedding_columns=[str(i) for i in range(256)]\n",
    "all_columns=struct_columns+embedding_columns\n",
    "train_data = pd.DataFrame(train_features, columns=all_columns)\n",
    "train_data['label'] = label\n",
    "feature_file=\"allfeature_connective_line.csv\"\n",
    "train_data.to_csv(feature_file, index=False)"
   ]
  },
  {
   "cell_type": "code",
   "execution_count": 165,
   "metadata": {
    "ExecuteTime": {
     "end_time": "2020-10-16T15:01:00.693468Z",
     "start_time": "2020-10-16T15:00:50.877506Z"
    }
   },
   "outputs": [
    {
     "name": "stdout",
     "output_type": "stream",
     "text": [
      "allfeature_connective_traindata\n",
      "Accuracy: 87.31%\n",
      "f1:0.8722105371158878\n",
      "auc:0.9448031019857664\n"
     ]
    },
    {
     "data": {
      "image/png": "[encoded data removed]",
      "text/plain": [
       "<matplotlib.figure.Figure at 0x7f1f1aee96d8>"
      ]
     },
     "metadata": {},
     "output_type": "display_data"
    }
   ],
   "source": [
    "#未归一化\n",
    "print(\"allfeature_connective_traindata\")\n",
    "test_size = 0.15\n",
    "model =XGBClassifier()#SVC()# LogisticRegression()\n",
    "train_data_file=\"allfeature_connective_traindata.csv\"\n",
    "run(model,train_data_file,feature_columns,test_size)"
   ]
  },
  {
   "cell_type": "code",
   "execution_count": null,
   "metadata": {
    "collapsed": true
   },
   "outputs": [],
   "source": []
  }
 ],
 "metadata": {
  "kernelspec": {
   "display_name": "Python [conda env:OpenNE]",
   "language": "python",
   "name": "conda-env-OpenNE-py"
  },
  "language_info": {
   "codemirror_mode": {
    "name": "ipython",
    "version": 3
   },
   "file_extension": ".py",
   "mimetype": "text/x-python",
   "name": "python",
   "nbconvert_exporter": "python",
   "pygments_lexer": "ipython3",
   "version": "3.6.2"
  },
  "varInspector": {
   "cols": {
    "lenName": 16,
    "lenType": 16,
    "lenVar": 40
   },
   "kernels_config": {
    "python": {
     "delete_cmd_postfix": "",
     "delete_cmd_prefix": "del ",
     "library": "var_list.py",
     "varRefreshCmd": "print(var_dic_list())"
    },
    "r": {
     "delete_cmd_postfix": ") ",
     "delete_cmd_prefix": "rm(",
     "library": "var_list.r",
     "varRefreshCmd": "cat(var_dic_list()) "
    }
   },
   "types_to_exclude": [
    "module",
    "function",
    "builtin_function_or_method",
    "instance",
    "_Feature"
   ],
   "window_display": false
  }
 },
 "nbformat": 4,
 "nbformat_minor": 2
}
