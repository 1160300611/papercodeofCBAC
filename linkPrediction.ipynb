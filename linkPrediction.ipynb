{
 "cells": [
  {
   "cell_type": "code",
   "execution_count": 11,
   "metadata": {
    "ExecuteTime": {
     "end_time": "2020-10-07T11:30:13.767926Z",
     "start_time": "2020-10-07T11:30:13.697154Z"
    },
    "collapsed": true
   },
   "outputs": [],
   "source": [
    "from __future__ import division\n",
    "from __future__ import print_function\n",
    "import numpy as np\n",
    "import pandas as pd\n",
    "import matplotlib.pyplot as plt\n",
    "from itertools import islice\n",
    "import pickle\n",
    "import networkx as nx\n",
    "import random\n",
    "from xgboost import XGBClassifier\n",
    "from sklearn.linear_model import LogisticRegression\n",
    "from sklearn.model_selection import train_test_split,cross_val_score\n",
    "from sklearn.metrics import accuracy_score,roc_auc_score,roc_curve,auc\n",
    "from sklearn.ensemble import RandomForestClassifier\n",
    "from sklearn.utils import shuffle\n",
    "from sklearn.svm import SVC\n",
    "from sklearn import metrics,model_selection,preprocessing\n",
    "import warnings\n",
    "warnings.filterwarnings(\"ignore\")\n",
    "random.seed(32)\n",
    "np.random.seed(32)"
   ]
  },
  {
   "cell_type": "code",
   "execution_count": 1,
   "metadata": {
    "ExecuteTime": {
     "end_time": "2020-10-18T12:19:43.899242Z",
     "start_time": "2020-10-18T12:19:43.843275Z"
    },
    "collapsed": true
   },
   "outputs": [],
   "source": [
    "def all_metric(model,X_test,y_test):\n",
    "    y_prob = model.predict_proba(X_test)\n",
    "    f1=metrics.f1_score(y_test,model.predict(X_test))\n",
    "    print(\"f1:{}\".format(f1))\n",
    "    y_test_prob=model.predict_proba(X_test)   #y_test_prob.shape=[n_samples, n_classes]\n",
    "    fpr, tpr, _ = roc_curve(y_test, y_test_prob[:,1])\n",
    "    auc=metrics.auc(fpr,tpr)\n",
    "    print(\"auc:{}\".format(auc))\n",
    "    # roc_auc = auc(fpr, tpr)\n",
    "#     plt.title('ROC Validation')\n",
    "#     plt.plot(fpr, tpr, 'b', label='AUC = %0.2f' % auc)\n",
    "#     plt.legend(loc='lower right')\n",
    "#     plt.plot([0, 1], [0, 1], 'r--')\n",
    "#     plt.xlim([0, 1])\n",
    "#     plt.ylim([0, 1])\n",
    "#     plt.ylabel('True Positive Rate')\n",
    "#     plt.xlabel('False Positive Rate')\n",
    "#     plt.show()\n",
    "    return fpr,tpr\n",
    "    \n",
    "def run(model,train_data_file,representation_size,test_size):\n",
    "    train_data=pd.read_csv(train_data_file)\n",
    "    train_data = shuffle(train_data)\n",
    "    feature_columns=[str(i) for i in range(representation_size*2)]\n",
    "    X = train_data[feature_columns]\n",
    "    Y = train_data['label']\n",
    "    # split data into train and test sets\n",
    "    X_train, X_test, y_train, y_test = train_test_split(X, Y, test_size=test_size, random_state=7)\n",
    "    model.fit(X_train, y_train)\n",
    "    y_pred = model.predict(X_test)\n",
    "    y_prob = model.predict_proba(X_test)\n",
    "    predictions = [round(value) for value in y_pred]\n",
    "    # evaluate predictions\n",
    "    accuracy = accuracy_score(y_test, predictions)\n",
    "    print(\"Accuracy: %.2f%%\" % (accuracy * 100.0))\n",
    "    fpr,tpr=all_metric(model,X_test,y_test)\n",
    "    return fpr,tpr"
   ]
  },
  {
   "cell_type": "code",
   "execution_count": 13,
   "metadata": {
    "ExecuteTime": {
     "end_time": "2020-10-07T11:30:15.035443Z",
     "start_time": "2020-10-07T11:30:15.020925Z"
    }
   },
   "outputs": [
    {
     "name": "stdout",
     "output_type": "stream",
     "text": [
      "begin\n"
     ]
    }
   ],
   "source": [
    "print(\"begin\")\n",
    "test_size = 0.2\n",
    "representation_size=128 #表征向量的长度\n",
    "model =XGBClassifier()#SVC()# LogisticRegression()"
   ]
  },
  {
   "cell_type": "code",
   "execution_count": 14,
   "metadata": {
    "ExecuteTime": {
     "end_time": "2020-10-07T11:39:10.806908Z",
     "start_time": "2020-10-07T11:30:25.508155Z"
    }
   },
   "outputs": [
    {
     "name": "stdout",
     "output_type": "stream",
     "text": [
      "all_connectiveSample_node2vec128:\n",
      "Accuracy: 84.88%\n",
      "f1:0.8526727509778356\n",
      "auc:0.9275276635359309\n",
      "all_randomSample_node2vec128:\n",
      "Accuracy: 83.57%\n",
      "f1:0.8386079513458723\n",
      "auc:0.917397693298776\n"
     ]
    }
   ],
   "source": [
    "print(\"all_connectiveSample_node2vec128:\")\n",
    "test_size = 0.2\n",
    "representation_size=128 #表征向量的长度\n",
    "model =XGBClassifier()#SVC()# LogisticRegression()\n",
    "train_data_file=\"train_data/all_connectiveSample_node2vec128.csv\"\n",
    "run(model,train_data_file,representation_size,test_size)\n",
    "print(\"all_randomSample_node2vec128:\")\n",
    "test_size = 0.2\n",
    "representation_size=128 #表征向量的长度\n",
    "model =XGBClassifier()#SVC()# LogisticRegression()\n",
    "train_data_file=\"train_data/all_randomSample_node2vec128.csv\"\n",
    "run(model,train_data_file,representation_size,test_size)"
   ]
  },
  {
   "cell_type": "code",
   "execution_count": 15,
   "metadata": {
    "ExecuteTime": {
     "end_time": "2020-10-07T11:48:07.152829Z",
     "start_time": "2020-10-07T11:39:10.821449Z"
    }
   },
   "outputs": [
    {
     "name": "stdout",
     "output_type": "stream",
     "text": [
      "all_connectiveSample_deepwalk128:\n",
      "Accuracy: 84.35%\n",
      "f1:0.8464481284224739\n",
      "auc:0.9242624593176838\n",
      "all_randomSample_deepwalk128:\n",
      "Accuracy: 83.56%\n",
      "f1:0.8372990353697749\n",
      "auc:0.9172262900870343\n"
     ]
    }
   ],
   "source": [
    "print(\"all_connectiveSample_deepwalk128:\")\n",
    "test_size = 0.2\n",
    "representation_size=128 #表征向量的长度\n",
    "model =XGBClassifier()#SVC()# LogisticRegression()\n",
    "train_data_file=\"train_data/all_connectiveSample_deepwalk128.csv\"\n",
    "run(model,train_data_file,representation_size,test_size)\n",
    "print(\"all_randomSample_deepwalk128:\")\n",
    "test_size = 0.2\n",
    "representation_size=128 #表征向量的长度\n",
    "model =XGBClassifier()#SVC()# LogisticRegression()\n",
    "train_data_file=\"train_data/all_randomSample_deepwalk128.csv\"\n",
    "run(model,train_data_file,representation_size,test_size)"
   ]
  },
  {
   "cell_type": "code",
   "execution_count": 16,
   "metadata": {
    "ExecuteTime": {
     "end_time": "2020-10-07T12:15:25.540574Z",
     "start_time": "2020-10-07T12:05:58.096382Z"
    }
   },
   "outputs": [
    {
     "name": "stdout",
     "output_type": "stream",
     "text": [
      "Line connection:\n",
      "Accuracy: 88.60%\n",
      "f1:0.8864873092583433\n",
      "auc:0.9558173128197276\n",
      "Line random:\n",
      "Accuracy: 89.75%\n",
      "f1:0.8967905795428307\n",
      "auc:0.9618064723145731\n"
     ]
    }
   ],
   "source": [
    "print(\"Line connection:\")\n",
    "test_size = 0.2\n",
    "representation_size=128 #表征向量的长度\n",
    "model =XGBClassifier()#SVC()# LogisticRegression()\n",
    "train_data_file=\"train_data/all_connectiveSample_line128.csv\"\n",
    "run(model,train_data_file,representation_size,test_size)\n",
    "print(\"Line random:\")\n",
    "test_size = 0.2\n",
    "representation_size=128 #表征向量的长度\n",
    "model =XGBClassifier()#SVC()# LogisticRegression()\n",
    "train_data_file=\"train_data/all_randomSample_line128.csv\"\n",
    "run(model,train_data_file,representation_size,test_size)"
   ]
  },
  {
   "cell_type": "code",
   "execution_count": 6,
   "metadata": {
    "ExecuteTime": {
     "end_time": "2020-10-07T10:07:12.470840Z",
     "start_time": "2020-10-07T10:07:12.466739Z"
    },
    "collapsed": true
   },
   "outputs": [],
   "source": [
    "# print(\"Hope connection:\")\n",
    "# test_size = 0.2\n",
    "# representation_size=128 #表征向量的长度\n",
    "# model =XGBClassifier()#SVC()# LogisticRegression()\n",
    "# train_data_file=\"train_data/dgsp_connectiveSample_hope128.csv\"\n",
    "# run(model,train_data_file,representation_size,test_size)\n",
    "# print(\"Hope random:\")\n",
    "# test_size = 0.2\n",
    "# representation_size=128 #表征向量的长度\n",
    "# model =XGBClassifier()#SVC()# LogisticRegression()\n",
    "# train_data_file=\"train_data/dgsp_randomSample_hope128.csv\"\n",
    "# run(model,train_data_file,representation_size,test_size)"
   ]
  },
  {
   "cell_type": "code",
   "execution_count": 17,
   "metadata": {
    "ExecuteTime": {
     "end_time": "2020-10-07T13:48:04.074672Z",
     "start_time": "2020-10-07T13:47:20.101195Z"
    }
   },
   "outputs": [
    {
     "name": "stdout",
     "output_type": "stream",
     "text": [
      "Sdne connection:\n",
      "Accuracy: 85.32%\n",
      "f1:0.8549848942598188\n",
      "auc:0.9320264127743991\n",
      "Sdne random:\n",
      "Accuracy: 84.62%\n",
      "f1:0.8467019776702358\n",
      "auc:0.9244363425304062\n"
     ]
    }
   ],
   "source": [
    "print(\"Sdne connection:\")\n",
    "test_size = 0.2\n",
    "representation_size=128 #表征向量的长度\n",
    "model =XGBClassifier()#SVC()# LogisticRegression()\n",
    "train_data_file=\"train_data/all_connectiveSample_sdne128.csv\"\n",
    "run(model,train_data_file,representation_size,test_size)\n",
    "print(\"Sdne random:\")\n",
    "test_size = 0.2\n",
    "representation_size=128 #表征向量的长度\n",
    "model =XGBClassifier()#SVC()# LogisticRegression()\n",
    "train_data_file=\"train_data/all_randomSample_sdne128.csv\"\n",
    "run(model,train_data_file,representation_size,test_size)"
   ]
  },
  {
   "cell_type": "code",
   "execution_count": 8,
   "metadata": {
    "ExecuteTime": {
     "end_time": "2020-10-07T10:07:54.609932Z",
     "start_time": "2020-10-07T10:07:54.606106Z"
    },
    "collapsed": true
   },
   "outputs": [],
   "source": [
    "# print(\"Lap connection:\")\n",
    "# test_size = 0.2\n",
    "# representation_size=128 #表征向量的长度\n",
    "# model =XGBClassifier()#SVC()# LogisticRegression()\n",
    "# train_data_file=\"train_data/all_connectiveSample_lap128.csv\"\n",
    "# run(model,train_data_file,representation_size,test_size)\n",
    "# print(\"Lap random:\")\n",
    "# test_size = 0.2\n",
    "# representation_size=128 #表征向量的长度\n",
    "# model =XGBClassifier()#SVC()# LogisticRegression()\n",
    "# train_data_file=\"train_data/all_randomSample_lap128.csv\"\n",
    "# run(model,train_data_file,representation_size,test_size)"
   ]
  },
  {
   "cell_type": "code",
   "execution_count": 9,
   "metadata": {
    "ExecuteTime": {
     "end_time": "2020-10-07T10:08:42.254437Z",
     "start_time": "2020-10-07T10:07:54.617082Z"
    }
   },
   "outputs": [
    {
     "name": "stdout",
     "output_type": "stream",
     "text": [
      "Gf connection:\n",
      "Accuracy: 84.28%\n",
      "f1:0.8450205358152154\n",
      "auc:0.9231824615511243\n",
      "Gf random:\n",
      "Accuracy: 87.05%\n",
      "f1:0.8714036286343277\n",
      "auc:0.9423743904099016\n"
     ]
    }
   ],
   "source": [
    "print(\"Gf connection:\")\n",
    "test_size = 0.2\n",
    "representation_size=128 #表征向量的长度\n",
    "model =XGBClassifier()#SVC()# LogisticRegression()\n",
    "train_data_file=\"train_data/dgsp_connectiveSample_gf128.csv\"\n",
    "run(model,train_data_file,representation_size,test_size)\n",
    "print(\"Gf random:\")\n",
    "test_size = 0.2\n",
    "representation_size=128 #表征向量的长度\n",
    "model =XGBClassifier()#SVC()# LogisticRegression()\n",
    "train_data_file=\"train_data/dgsp_randomSample_gf128.csv\"\n",
    "run(model,train_data_file,representation_size,test_size)"
   ]
  },
  {
   "cell_type": "code",
   "execution_count": 10,
   "metadata": {
    "ExecuteTime": {
     "end_time": "2020-10-07T10:08:42.265803Z",
     "start_time": "2020-10-07T10:08:42.263538Z"
    },
    "collapsed": true
   },
   "outputs": [],
   "source": [
    "#-----------下面是斯坦福公开数据集-----------------------------------------------------------"
   ]
  },
  {
   "cell_type": "code",
   "execution_count": 36,
   "metadata": {
    "ExecuteTime": {
     "end_time": "2020-09-27T14:19:38.334975Z",
     "start_time": "2020-09-27T14:19:07.768703Z"
    }
   },
   "outputs": [
    {
     "name": "stdout",
     "output_type": "stream",
     "text": [
      "dg_connectiveSample_node2vec128:\n",
      "Accuracy: 92.20%\n",
      "f1:0.7096247960848289\n",
      "auc:0.9621966726553514\n",
      "dg_randomSample_node2vec128:\n",
      "Accuracy: 91.79%\n",
      "f1:0.6908491343775763\n",
      "auc:0.9618583013557701\n"
     ]
    }
   ],
   "source": [
    "#256\n",
    "print(\"dg_connectiveSample_node2vec128:\")\n",
    "test_size = 0.2\n",
    "representation_size=256 #表征向量的长度\n",
    "model =XGBClassifier()#SVC()# LogisticRegression()\n",
    "train_data_file=\"stanford_data/dg_connectiveSample_node2vec128.csv\"\n",
    "run(model,train_data_file,representation_size,test_size)\n",
    "print(\"dg_randomSample_node2vec128:\")\n",
    "test_size = 0.2\n",
    "representation_size=256 #表征向量的长度\n",
    "model =XGBClassifier()#SVC()# LogisticRegression()\n",
    "train_data_file=\"stanford_data/dg_randomSample_node2vec128.csv\"\n",
    "run(model,train_data_file,representation_size,test_size)"
   ]
  },
  {
   "cell_type": "code",
   "execution_count": 27,
   "metadata": {
    "ExecuteTime": {
     "end_time": "2020-09-27T13:48:30.451921Z",
     "start_time": "2020-09-27T13:48:14.837952Z"
    }
   },
   "outputs": [
    {
     "name": "stdout",
     "output_type": "stream",
     "text": [
      "dg_connectiveSample_deepwalk128:\n",
      "Accuracy: 92.09%\n",
      "f1:0.6917164816396243\n",
      "auc:0.9561707540759276\n",
      "dg_randomSample_deepwalk128:\n",
      "Accuracy: 91.73%\n",
      "f1:0.6823727387463189\n",
      "auc:0.9591046514218835\n"
     ]
    }
   ],
   "source": [
    "print(\"dg_connectiveSample_deepwalk128:\")\n",
    "test_size = 0.2\n",
    "representation_size=128 #表征向量的长度\n",
    "model =XGBClassifier()#SVC()# LogisticRegression()\n",
    "train_data_file=\"stanford_data/dg_connectiveSample_deepwalk128.csv\"\n",
    "run(model,train_data_file,representation_size,test_size)\n",
    "print(\"dg_randomSample_deepwalk128:\")\n",
    "test_size = 0.2\n",
    "representation_size=128 #表征向量的长度\n",
    "model =XGBClassifier()#SVC()# LogisticRegression()\n",
    "train_data_file=\"stanford_data/dg_randomSample_deepwalk128.csv\"\n",
    "run(model,train_data_file,representation_size,test_size)"
   ]
  },
  {
   "cell_type": "code",
   "execution_count": 28,
   "metadata": {
    "ExecuteTime": {
     "end_time": "2020-09-27T13:49:01.771708Z",
     "start_time": "2020-09-27T13:48:46.630875Z"
    }
   },
   "outputs": [
    {
     "name": "stdout",
     "output_type": "stream",
     "text": [
      "dg_connectiveSample_line128:\n",
      "Accuracy: 92.42%\n",
      "f1:0.7225340817963112\n",
      "auc:0.966350891916674\n",
      "dg_randomSample_line128:\n",
      "Accuracy: 92.50%\n",
      "f1:0.7091295116772824\n",
      "auc:0.9641488750192392\n"
     ]
    }
   ],
   "source": [
    "#3 128\n",
    "print(\"dg_connectiveSample_line128:\")\n",
    "test_size = 0.2\n",
    "representation_size=128 #表征向量的长度\n",
    "model =XGBClassifier()#SVC()# LogisticRegression()\n",
    "train_data_file=\"stanford_data/dg_connectiveSample_line128.csv\"\n",
    "run(model,train_data_file,representation_size,test_size)\n",
    "print(\"dg_randomSample_line128:\")\n",
    "test_size = 0.2\n",
    "representation_size=128 #表征向量的长度\n",
    "model =XGBClassifier()#SVC()# LogisticRegression()\n",
    "train_data_file=\"stanford_data/dg_randomSample_line128.csv\"\n",
    "run(model,train_data_file,representation_size,test_size)"
   ]
  },
  {
   "cell_type": "code",
   "execution_count": 34,
   "metadata": {
    "ExecuteTime": {
     "end_time": "2020-09-27T14:13:39.048702Z",
     "start_time": "2020-09-27T14:13:30.183779Z"
    }
   },
   "outputs": [
    {
     "name": "stdout",
     "output_type": "stream",
     "text": [
      "dg_connectiveSample_line128:\n",
      "Accuracy: 92.33%\n",
      "f1:0.7126436781609196\n",
      "auc:0.9598975223377437\n",
      "dg_randomSample_line128:\n",
      "Accuracy: 91.98%\n",
      "f1:0.7038834951456312\n",
      "auc:0.9589177700911036\n"
     ]
    }
   ],
   "source": [
    "#1 64\n",
    "print(\"dg_connectiveSample_line128:\")\n",
    "test_size = 0.2\n",
    "representation_size=64 #表征向量的长度\n",
    "model =XGBClassifier()#SVC()# LogisticRegression()\n",
    "train_data_file=\"stanford_data/dg_connectiveSample_line128.csv\"\n",
    "run(model,train_data_file,representation_size,test_size)\n",
    "print(\"dg_randomSample_line128:\")\n",
    "test_size = 0.2\n",
    "representation_size=64 #表征向量的长度\n",
    "model =XGBClassifier()#SVC()# LogisticRegression()\n",
    "train_data_file=\"stanford_data/dg_randomSample_line128.csv\"\n",
    "run(model,train_data_file,representation_size,test_size)"
   ]
  },
  {
   "cell_type": "code",
   "execution_count": 29,
   "metadata": {
    "ExecuteTime": {
     "end_time": "2020-09-27T13:49:21.995883Z",
     "start_time": "2020-09-27T13:49:07.890776Z"
    }
   },
   "outputs": [
    {
     "name": "stdout",
     "output_type": "stream",
     "text": [
      "dg_connectiveSample_hope128:\n",
      "Accuracy: 93.08%\n",
      "f1:0.74740207833733\n",
      "auc:0.9734711399808469\n",
      "dg_randomSample_hope128:\n",
      "Accuracy: 92.86%\n",
      "f1:0.7520912547528519\n",
      "auc:0.9719991365680914\n"
     ]
    }
   ],
   "source": [
    "print(\"dg_connectiveSample_hope128:\")\n",
    "test_size = 0.2\n",
    "representation_size=128 #表征向量的长度\n",
    "model =XGBClassifier()#SVC()# LogisticRegression()\n",
    "train_data_file=\"stanford_data/dg_connectiveSample_hope128.csv\"\n",
    "run(model,train_data_file,representation_size,test_size)\n",
    "print(\"dg_randomSample_hope128:\")\n",
    "test_size = 0.2\n",
    "representation_size=128 #表征向量的长度\n",
    "model =XGBClassifier()#SVC()# LogisticRegression()\n",
    "train_data_file=\"stanford_data/dg_randomSample_hope128.csv\"\n",
    "run(model,train_data_file,representation_size,test_size)"
   ]
  },
  {
   "cell_type": "code",
   "execution_count": 30,
   "metadata": {
    "ExecuteTime": {
     "end_time": "2020-09-27T13:52:41.175111Z",
     "start_time": "2020-09-27T13:52:28.856174Z"
    }
   },
   "outputs": [
    {
     "name": "stdout",
     "output_type": "stream",
     "text": [
      "dg_connectiveSample_sdne128:\n",
      "Accuracy: 91.78%\n",
      "f1:0.6890269151138717\n",
      "auc:0.945595071501072\n",
      "dg_randomSample_sdne128:\n",
      "Accuracy: 91.71%\n",
      "f1:0.6906416019615855\n",
      "auc:0.9459893645527427\n"
     ]
    }
   ],
   "source": [
    "print(\"dg_connectiveSample_sdne128:\")\n",
    "test_size = 0.2\n",
    "representation_size=128 #表征向量的长度\n",
    "model =XGBClassifier()#SVC()# LogisticRegression()\n",
    "train_data_file=\"stanford_data/dg_connectiveSample_sdne128.csv\"\n",
    "run(model,train_data_file,representation_size,test_size)\n",
    "print(\"dg_randomSample_sdne128:\")\n",
    "test_size = 0.2\n",
    "representation_size=128 #表征向量的长度\n",
    "model =XGBClassifier()#SVC()# LogisticRegression()\n",
    "train_data_file=\"stanford_data/dg_randomSample_sdne128.csv\"\n",
    "run(model,train_data_file,representation_size,test_size)"
   ]
  },
  {
   "cell_type": "code",
   "execution_count": 31,
   "metadata": {
    "ExecuteTime": {
     "end_time": "2020-09-27T13:53:15.378087Z",
     "start_time": "2020-09-27T13:53:02.033215Z"
    }
   },
   "outputs": [
    {
     "name": "stdout",
     "output_type": "stream",
     "text": [
      "dg_connectiveSample_lap128:\n",
      "Accuracy: 85.73%\n",
      "f1:0.004583651642475172\n",
      "auc:0.598672917242808\n",
      "dg_randomSample_lap128:\n",
      "Accuracy: 86.23%\n",
      "f1:0.004750593824228029\n",
      "auc:0.6131887114463335\n"
     ]
    }
   ],
   "source": [
    "print(\"dg_connectiveSample_lap128:\")\n",
    "test_size = 0.2\n",
    "representation_size=128 #表征向量的长度\n",
    "model =XGBClassifier()#SVC()# LogisticRegression()\n",
    "train_data_file=\"stanford_data/dg_connectiveSample_lap128.csv\"\n",
    "run(model,train_data_file,representation_size,test_size)\n",
    "print(\"dg_randomSample_lap128:\")\n",
    "test_size = 0.2\n",
    "representation_size=128 #表征向量的长度\n",
    "model =XGBClassifier()#SVC()# LogisticRegression()\n",
    "train_data_file=\"stanford_data/dg_randomSample_lap128.csv\"\n",
    "run(model,train_data_file,representation_size,test_size)"
   ]
  },
  {
   "cell_type": "code",
   "execution_count": 32,
   "metadata": {
    "ExecuteTime": {
     "end_time": "2020-09-27T13:53:45.604672Z",
     "start_time": "2020-09-27T13:53:31.041434Z"
    }
   },
   "outputs": [
    {
     "name": "stdout",
     "output_type": "stream",
     "text": [
      "dg_connectiveSample_gf128:\n",
      "Accuracy: 91.87%\n",
      "f1:0.6831767719897524\n",
      "auc:0.9571760540002213\n",
      "dg_randomSample_gf128:\n",
      "Accuracy: 91.58%\n",
      "f1:0.6616805983282006\n",
      "auc:0.956719663617169\n"
     ]
    }
   ],
   "source": [
    "print(\"dg_connectiveSample_gf128:\")\n",
    "test_size = 0.2\n",
    "representation_size=128 #表征向量的长度\n",
    "model =XGBClassifier()#SVC()# LogisticRegression()\n",
    "train_data_file=\"stanford_data/dg_connectiveSample_gf128.csv\"\n",
    "run(model,train_data_file,representation_size,test_size)\n",
    "print(\"dg_randomSample_gf128:\")\n",
    "test_size = 0.2\n",
    "representation_size=128 #表征向量的长度\n",
    "model =XGBClassifier()#SVC()# LogisticRegression()\n",
    "train_data_file=\"stanford_data/dg_randomSample_gf128.csv\"\n",
    "run(model,train_data_file,representation_size,test_size)"
   ]
  },
  {
   "cell_type": "code",
   "execution_count": 14,
   "metadata": {
    "ExecuteTime": {
     "end_time": "2020-09-24T00:45:42.705659Z",
     "start_time": "2020-09-24T00:45:27.301760Z"
    }
   },
   "outputs": [
    {
     "name": "stdout",
     "output_type": "stream",
     "text": [
      "begin\n",
      "Accuracy: 91.06%\n",
      "f1:0.9113524434903397\n",
      "auc:0.9707501947872943\n"
     ]
    },
    {
     "data": {
      "image/png": "[encoded data removed]",
      "text/plain": [
       "<matplotlib.figure.Figure at 0x7fcf1c283e10>"
      ]
     },
     "metadata": {},
     "output_type": "display_data"
    }
   ],
   "source": [
    "print(\"begin\")\n",
    "train_data_file=\"train_data/dg_connective_hope128_traindata.csv\"\n",
    "run(model,train_data_file,representation_size,test_size)"
   ]
  },
  {
   "cell_type": "code",
   "execution_count": 15,
   "metadata": {
    "ExecuteTime": {
     "end_time": "2020-09-24T00:46:03.481058Z",
     "start_time": "2020-09-24T00:45:48.765908Z"
    }
   },
   "outputs": [
    {
     "name": "stdout",
     "output_type": "stream",
     "text": [
      "begin\n",
      "Accuracy: 89.62%\n",
      "f1:0.8952882946583531\n",
      "auc:0.9625750158550836\n"
     ]
    },
    {
     "data": {
      "image/png": "[encoded data removed]",
      "text/plain": [
       "<matplotlib.figure.Figure at 0x7fcf1c334e10>"
      ]
     },
     "metadata": {},
     "output_type": "display_data"
    }
   ],
   "source": [
    "print(\"begin\")\n",
    "train_data_file=\"train_data/dg_random_hope128_traindata.csv\"\n",
    "run(model,train_data_file,representation_size,test_size)"
   ]
  },
  {
   "cell_type": "code",
   "execution_count": 4,
   "metadata": {
    "ExecuteTime": {
     "end_time": "2020-06-01T14:58:55.566104Z",
     "start_time": "2020-06-01T14:58:54.347593Z"
    }
   },
   "outputs": [
    {
     "name": "stdout",
     "output_type": "stream",
     "text": [
      "begin\n",
      "end\n"
     ]
    }
   ],
   "source": [
    "# train_data=pd.read_csv(data_path)#,index_col=0\n",
    "# train_data = shuffle(train_data)\n",
    "\n",
    "# print(train_data.shape)\n",
    "# train_data.head()\n",
    "\n",
    "# train_data = shuffle(train_data)\n",
    "# train_data['label'][:10]\n",
    "# representation_size=128 #表征向量的长度\n",
    "# number_walks=40  #每个节点随机游走序列数量\n",
    "# walk_length=10   #每个随机游走序列的长度\n",
    "# workers=8        #并行数量\n",
    "# window_size=10   #skip-gram提取词的上下文数量\n",
    "# #node2vec参数\n",
    "# q=0.25\n",
    "# p=0.25\n",
    "\n",
    "#ALLNET\n",
    "representation_size=128 #表征向量的长度\n",
    "print(\"begin\")\n",
    "#基于边的\n",
    "feature_columns=[str(i) for i in range(representation_size*2)]\n",
    "X = train_data[feature_columns]\n",
    "Y = train_data['label']\n",
    "# split data into train and test sets\n",
    "seed = 7\n",
    "test_size = 0.2\n",
    "X_train, X_test, y_train, y_test = train_test_split(X, Y, test_size=test_size, random_state=seed)\n",
    "print(\"end\")"
   ]
  },
  {
   "cell_type": "code",
   "execution_count": 5,
   "metadata": {
    "ExecuteTime": {
     "end_time": "2020-06-01T15:05:52.988357Z",
     "start_time": "2020-06-01T14:58:57.133811Z"
    }
   },
   "outputs": [
    {
     "name": "stdout",
     "output_type": "stream",
     "text": [
      "begin:\n",
      "Accuracy: 91.99%\n"
     ]
    }
   ],
   "source": [
    "# fit model no training data\n",
    "print('begin:')\n",
    "clf_rf = RandomForestClassifier(n_estimators=100)\n",
    "clf_rf.fit(X_train, y_train)\n",
    "y_pred = clf_rf.predict(X_test)\n",
    "y_prob = clf_rf.predict_proba(X_test)\n",
    "# model = XGBClassifier()\n",
    "# model.fit(X_train, y_train)\n",
    "# make predictions for test data\n",
    "# y_pred = model.predict(X_test)\n",
    "predictions = [round(value) for value in y_pred]\n",
    "# evaluate predictions\n",
    "accuracy = accuracy_score(y_test, predictions)\n",
    "print(\"Accuracy: %.2f%%\" % (accuracy * 100.0))"
   ]
  },
  {
   "cell_type": "code",
   "execution_count": 10,
   "metadata": {
    "ExecuteTime": {
     "end_time": "2020-06-01T15:16:05.940558Z",
     "start_time": "2020-06-01T15:15:45.752084Z"
    }
   },
   "outputs": [
    {
     "name": "stdout",
     "output_type": "stream",
     "text": [
      "begin:\n",
      "Accuracy: 83.72%\n"
     ]
    }
   ],
   "source": [
    "from sklearn.linear_model import LogisticRegression\n",
    "\n",
    "# fit model no training data\n",
    "print('begin:')\n",
    "clf_lg = LogisticRegression()\n",
    "clf_lg.fit(X_train, y_train)\n",
    "y_pred = clf_lg.predict(X_test)\n",
    "y_prob = clf_lg.predict_proba(X_test)\n",
    "predictions = [round(value) for value in y_pred]\n",
    "# evaluate predictions\n",
    "accuracy = accuracy_score(y_test, predictions)\n",
    "print(\"Accuracy: %.2f%%\" % (accuracy * 100.0))"
   ]
  },
  {
   "cell_type": "code",
   "execution_count": 9,
   "metadata": {
    "ExecuteTime": {
     "end_time": "2020-05-26T03:23:05.889779Z",
     "start_time": "2020-05-26T03:22:52.117398Z"
    }
   },
   "outputs": [
    {
     "name": "stdout",
     "output_type": "stream",
     "text": [
      "Accuracy: 100.00%\n"
     ]
    }
   ],
   "source": [
    "y_pred = clf_rf.predict(X_train)\n",
    "# y_prob = clf_rf.predict_proba(X_test)\n",
    "predictions = [round(value) for value in y_pred]\n",
    "# evaluate predictions\n",
    "accuracy = accuracy_score(y_train, predictions)\n",
    "print(\"Accuracy: %.2f%%\" % (accuracy * 100.0))"
   ]
  },
  {
   "cell_type": "code",
   "execution_count": 14,
   "metadata": {
    "ExecuteTime": {
     "end_time": "2020-05-20T12:44:59.518879Z",
     "start_time": "2020-05-20T12:44:59.514634Z"
    },
    "collapsed": true
   },
   "outputs": [],
   "source": [
    "# from sklearn.svm import SVC\n",
    "# # fit model no training data\n",
    "# print('begin:')\n",
    "# clf_svc = SVC()\n",
    "# clf_svc.fit(X_train, y_train)\n",
    "# y_pred = clf_svc.predict(X_test)\n",
    "# # y_prob = clf.predict_proba(X_test)\n",
    "# # model = XGBClassifier()\n",
    "# # model.fit(X_train, y_train)\n",
    "# # make predictions for test data\n",
    "# # y_pred = model.predict(X_test)\n",
    "# predictions = [round(value) for value in y_pred]\n",
    "# # evaluate predictions\n",
    "# accuracy = accuracy_score(y_test, predictions)\n",
    "# print(\"Accuracy: %.2f%%\" % (accuracy * 100.0))"
   ]
  },
  {
   "cell_type": "code",
   "execution_count": 7,
   "metadata": {
    "ExecuteTime": {
     "end_time": "2020-06-01T15:08:39.495926Z",
     "start_time": "2020-06-01T15:08:26.629718Z"
    }
   },
   "outputs": [
    {
     "name": "stdout",
     "output_type": "stream",
     "text": [
      "0.9197740112994351\n",
      "0.9745039642975833\n"
     ]
    },
    {
     "data": {
      "image/png": "[encoded data removed]",
      "text/plain": [
       "<matplotlib.figure.Figure at 0x7eff0ae83eb8>"
      ]
     },
     "metadata": {},
     "output_type": "display_data"
    }
   ],
   "source": [
    "all_metric(clf_rf,X_test,y_test)"
   ]
  },
  {
   "cell_type": "code",
   "execution_count": 17,
   "metadata": {
    "ExecuteTime": {
     "end_time": "2020-05-20T12:45:11.571997Z",
     "start_time": "2020-05-20T12:45:11.569690Z"
    },
    "collapsed": true
   },
   "outputs": [],
   "source": [
    "# fpr,tpr,thresholds=metrics.roc_curve(y_test,clf_rf.decision_function(X_test),pos_label=1)\n",
    "# auc=metrics.auc(fpr,tpr)\n",
    "# print(auc)"
   ]
  },
  {
   "cell_type": "code",
   "execution_count": 8,
   "metadata": {
    "ExecuteTime": {
     "end_time": "2020-06-01T15:11:57.723623Z",
     "start_time": "2020-06-01T15:08:39.935429Z"
    }
   },
   "outputs": [
    {
     "name": "stdout",
     "output_type": "stream",
     "text": [
      "begin:\n"
     ]
    },
    {
     "name": "stderr",
     "output_type": "stream",
     "text": [
      "/home/wumx/anaconda3/envs/OpenNE/lib/python3.6/site-packages/sklearn/preprocessing/label.py:151: DeprecationWarning: The truth value of an empty array is ambiguous. Returning False, but in future this will result in an error. Use `array.size > 0` to check that an array is not empty.\n",
      "  if diff:\n"
     ]
    },
    {
     "name": "stdout",
     "output_type": "stream",
     "text": [
      "Accuracy: 97.28%\n"
     ]
    }
   ],
   "source": [
    "# fit model no training data\n",
    "print('begin:')\n",
    "clf_xg = XGBClassifier()\n",
    "clf_xg.fit(X_train, y_train)\n",
    "y_pred = clf_xg.predict(X_test)\n",
    "y_prob = clf_xg.predict_proba(X_test)\n",
    "# model = XGBClassifier()\n",
    "# model.fit(X_train, y_train)\n",
    "# make predictions for test data\n",
    "# y_pred = model.predict(X_test)\n",
    "predictions = [round(value) for value in y_pred]\n",
    "# evaluate predictions\n",
    "accuracy = accuracy_score(y_test, predictions)\n",
    "print(\"Accuracy: %.2f%%\" % (accuracy * 100.0))"
   ]
  },
  {
   "cell_type": "code",
   "execution_count": 9,
   "metadata": {
    "ExecuteTime": {
     "end_time": "2020-06-01T15:11:59.819833Z",
     "start_time": "2020-06-01T15:11:58.271081Z"
    }
   },
   "outputs": [
    {
     "name": "stderr",
     "output_type": "stream",
     "text": [
      "/home/wumx/anaconda3/envs/OpenNE/lib/python3.6/site-packages/sklearn/preprocessing/label.py:151: DeprecationWarning: The truth value of an empty array is ambiguous. Returning False, but in future this will result in an error. Use `array.size > 0` to check that an array is not empty.\n",
      "  if diff:\n"
     ]
    },
    {
     "name": "stdout",
     "output_type": "stream",
     "text": [
      "0.9731999924666176\n",
      "0.9959803059685413\n"
     ]
    },
    {
     "data": {
      "image/png": "[encoded data removed]",
      "text/plain": [
       "<matplotlib.figure.Figure at 0x7efeef2c2748>"
      ]
     },
     "metadata": {},
     "output_type": "display_data"
    }
   ],
   "source": [
    "all_metric(clf_xg,X_test,y_test)"
   ]
  },
  {
   "cell_type": "code",
   "execution_count": null,
   "metadata": {
    "collapsed": true
   },
   "outputs": [],
   "source": []
  }
 ],
 "metadata": {
  "kernelspec": {
   "display_name": "Python [conda env:OpenNE]",
   "language": "python",
   "name": "conda-env-OpenNE-py"
  },
  "language_info": {
   "codemirror_mode": {
    "name": "ipython",
    "version": 3
   },
   "file_extension": ".py",
   "mimetype": "text/x-python",
   "name": "python",
   "nbconvert_exporter": "python",
   "pygments_lexer": "ipython3",
   "version": "3.6.2"
  },
  "varInspector": {
   "cols": {
    "lenName": 16,
    "lenType": 16,
    "lenVar": 40
   },
   "kernels_config": {
    "python": {
     "delete_cmd_postfix": "",
     "delete_cmd_prefix": "del ",
     "library": "var_list.py",
     "varRefreshCmd": "print(var_dic_list())"
    },
    "r": {
     "delete_cmd_postfix": ") ",
     "delete_cmd_prefix": "rm(",
     "library": "var_list.r",
     "varRefreshCmd": "cat(var_dic_list()) "
    }
   },
   "types_to_exclude": [
    "module",
    "function",
    "builtin_function_or_method",
    "instance",
    "_Feature"
   ],
   "window_display": false
  }
 },
 "nbformat": 4,
 "nbformat_minor": 4
}
