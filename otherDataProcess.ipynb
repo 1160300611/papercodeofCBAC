{
 "cells": [
  {
   "cell_type": "code",
   "execution_count": 1,
   "metadata": {
    "ExecuteTime": {
     "end_time": "2020-09-27T02:46:47.841624Z",
     "start_time": "2020-09-27T02:46:40.373429Z"
    }
   },
   "outputs": [],
   "source": [
    "from __future__ import division\n",
    "from __future__ import print_function\n",
    "import numpy as np\n",
    "import pandas as pd\n",
    "import matplotlib.pyplot as plt\n",
    "from itertools import islice\n",
    "import pickle\n",
    "import networkx as nx\n",
    "import openne\n",
    "import openne.node2vec\n",
    "from openne.graph import *\n",
    "import scipy.sparse as sp\n",
    "import random\n",
    "random.seed(32)\n",
    "np.random.seed(32)"
   ]
  },
  {
   "cell_type": "code",
   "execution_count": 2,
   "metadata": {
    "ExecuteTime": {
     "end_time": "2020-09-27T02:47:58.095677Z",
     "start_time": "2020-09-27T02:47:57.615121Z"
    }
   },
   "outputs": [],
   "source": [
    "#加载网络\n",
    "def loadNet(fileName):\n",
    "    edges=set()\n",
    "    with open(fileName, 'r') as f:\n",
    "        for line in f:\n",
    "            words = line.split()\n",
    "            edges.add((words[0], words[1]))\n",
    "    return edges\n",
    "\n",
    "\"\"\"\n",
    "#name2index：节点ID与标号对应表\n",
    "功能: 获取网络中节点\n",
    "输入: \n",
    "    fileName:文件名\n",
    "    name2index:节点id到index的映射\n",
    "返回: 节点列表\n",
    "\"\"\"\n",
    "def getNodelist(fileName):\n",
    "    nodeList1 = set()\n",
    "    nodeList2 = set()\n",
    "    with open(fileName, 'r') as f:\n",
    "        for line in f:\n",
    "            words = line.split()\n",
    "            nodeList1.add(words[0])\n",
    "            nodeList2.add(words[1])\n",
    "    return list(nodeList1), list(nodeList2)\n",
    "\n",
    "\"\"\"\n",
    "功能: 保存正负用例（边列表）\n",
    "    保存格式为：node1 node2 flag\n",
    "    flag为1表示正例，为0表示负例\n",
    "输入: \n",
    "    save_path:保存文件名\n",
    "    pos_edges:正边集合\n",
    "    neg_edges:负边集合\n",
    "返回: 无\n",
    "\"\"\"\n",
    "def save_sampledEdges(save_path,pos_edges,neg_edges):\n",
    "    with open(save_path, 'w') as f:\n",
    "        for node1,node2 in pos_edges:\n",
    "            temp=str(node1)+\" \"+str(node2)+\" \"+str(1)+\"\\n\"\n",
    "            f.write(temp)\n",
    "        for node1,node2 in neg_edges:\n",
    "            temp=str(node1)+\" \"+str(node2)+\" \"+str(0)+\"\\n\"\n",
    "            f.write(temp)\n",
    "\n",
    "\"\"\"\n",
    "功能: 保存正负用例（边列表）\n",
    "    保存格式为：node1 node2 flag\n",
    "    flag为1表示正例，为0表示负例\n",
    "输入: \n",
    "    save_path:保存文件名\n",
    "    pos_edges:正边集合\n",
    "    neg_edges:负边集合\n",
    "返回: 无\n",
    "\"\"\"\n",
    "def save_edges(save_path,pos_edges,neg_edges):\n",
    "    count=0\n",
    "    with open(save_path, 'w') as f:\n",
    "        for edge in neg_edges:\n",
    "            count+=1\n",
    "            temp=str(edge[0])+\" \"+str(edge[1])+\" \"+str(0)+\"\\n\"\n",
    "            f.write(temp)\n",
    "        for edge in pos_edges:\n",
    "            count+=1\n",
    "            temp=str(edge[0])+\" \"+str(edge[1])+\" \"+str(1)+\"\\n\"\n",
    "            f.write(temp)\n",
    "        print(count)\n",
    "            \n",
    "\"\"\"\n",
    "功能: 提取一定数量的负例（本数据集总数量为130820）\n",
    "输入: \n",
    "    G:网络\n",
    "    sampleNegNum:提取数量\n",
    "返回: 负边列表（存储格式为:(node1,node2)）\n",
    "\"\"\"\n",
    "def sampleNegativeEdge(G,sampleRatio=0.3,totalNum=130820):\n",
    "    np.random.seed(123456)\n",
    "    sampleNegNum=int(sampleRatio*totalNum)\n",
    "    # get all positive edges\n",
    "    all_edges = G.edges()\n",
    "    all_edges = list(set(all_edges))\n",
    "    sample_negEdges=[]\n",
    "    nodes1=set()\n",
    "    nodes2=set()\n",
    "    for edge in all_edges:\n",
    "        nodes1.add(edge[0])\n",
    "        nodes2.add(edge[1])\n",
    "    nodes1=list(nodes1)\n",
    "    nodes2=list(nodes2)\n",
    "    count=0\n",
    "    while count<sampleNegNum:\n",
    "        node1=random.choice(nodes1)\n",
    "        node2=random.choice(nodes2)\n",
    "        edge=(node1,node2)\n",
    "        if edge not in all_edges and edge not in sample_negEdges:\n",
    "            sample_negEdges.append(edge)\n",
    "            count+=1\n",
    "    return sample_negEdges\n",
    "    \n",
    "def mst_drop(G, drop_ratio=0.3):\n",
    "    \"\"\"randomly drop some edge that already exist, and keep connection.\n",
    "    return: G: graph after process\n",
    "            drop_pos: ndarray of droped edges\n",
    "    \"\"\"\n",
    "    np.random.seed(123456)\n",
    "    # get all positive edges\n",
    "    all_pos_edges = G.edges()\n",
    "    all_pos_edgeset = set(all_pos_edges)\n",
    "    total = len(all_pos_edgeset)\n",
    "    \n",
    "    # generate minimum spanning tree's edges\n",
    "    from networkx.algorithms import tree\n",
    "    mst = tree.minimum_spanning_edges(G, algorithm='kruskal', data=False)\n",
    "    edgelist = list(mst)\n",
    "    edgeset = set(tuple(sorted(edge)) for edge in edgelist)\n",
    "    \n",
    "    # all_pos - mst_edgelist\n",
    "    other_pos_edgeset = all_pos_edgeset.difference(edgeset)\n",
    "    other_pos_edges = np.asarray(list(other_pos_edgeset))\n",
    "    other = len(other_pos_edgeset)\n",
    "    \n",
    "    if other <= total * drop_ratio:\n",
    "        drop_pos = other_pos_edges\n",
    "        G.remove_edges_from(other_pos_edges)\n",
    "    else:\n",
    "        drop_pos_idx = np.random.choice(np.arange(other), int(total * drop_ratio), replace=False)\n",
    "        drop_pos = other_pos_edges[drop_pos_idx]\n",
    "        G.remove_edges_from(drop_pos)\n",
    "    return G, drop_pos\n",
    "\n",
    "def random_drop(G, drop_ratio=0.3):\n",
    "    np.random.seed(123456)\n",
    "    # get all positive edges\n",
    "    all_pos_edges = list(set(G.edges()))\n",
    "    drop_pos=[]\n",
    "    #np.asarray(all_pos_edges)\n",
    "    total = len(all_pos_edges)\n",
    "    num_drop = total * drop_ratio\n",
    "    index_list = [i for i in range(total)]\n",
    "    index = random.sample(index_list, int(num_drop))\n",
    "    for idx in index:\n",
    "        drop_pos.append(all_pos_edges[idx])\n",
    "    G.remove_edges_from(drop_pos)\n",
    "    np.asarray(drop_pos)\n",
    "    return G, drop_pos"
   ]
  },
  {
   "cell_type": "code",
   "execution_count": 28,
   "metadata": {
    "ExecuteTime": {
     "end_time": "2020-09-27T11:36:59.078781Z",
     "start_time": "2020-09-27T11:36:58.349354Z"
    }
   },
   "outputs": [],
   "source": [
    "datapath=\"./stanford_data/DG-AssocMiner_miner-disease-gene.tsv\"\n",
    "data=pd.read_csv(datapath,sep='\\t',header=0)\n",
    "diseaseID=data['# Disease ID']\n",
    "geneID=data['Gene ID']\n",
    "edges=[]\n",
    "for i in range(data.shape[0]):\n",
    "    edges.append((str(diseaseID[i]),str(geneID[i])))\n",
    "dis_gene_network = nx.Graph() # 创建无向图\n",
    "dis_gene_network.add_edges_from(edges)"
   ]
  },
  {
   "cell_type": "code",
   "execution_count": 29,
   "metadata": {
    "ExecuteTime": {
     "end_time": "2020-09-27T11:38:29.903967Z",
     "start_time": "2020-09-27T11:36:59.171880Z"
    }
   },
   "outputs": [
    {
     "name": "stdout",
     "output_type": "stream",
     "text": [
      "45653\n",
      "14950\n",
      "6407\n",
      "39246\n"
     ]
    }
   ],
   "source": [
    "saveSampleConnectivePath=\"./stanford_data/connectiveSample_edges0.3.txt\"\n",
    "neg_edges=sampleNegativeEdge(dis_gene_network,sampleRatio=0.3)\n",
    "dis_gene_network_connective, pos_edges = mst_drop(dis_gene_network, drop_ratio=0.3)\n",
    "pos_edges=list(map(lambda x:tuple(x),pos_edges))\n",
    "save_edges(saveSampleConnectivePath,pos_edges,neg_edges)\n",
    "# nx.write_edgelist(remainGraph, \"network_edgelist/dg_sampledGraph_connective_adjlist.txt\", delimiter=' ',data=False)\n",
    "#nx.write_adjlist(remainGraph,\"./network_edgelist/dg_sampledGraph_connective_adjlist.txt\")\n",
    "print(len(list(dis_gene_network_connective.edges)))\n",
    "print(len(pos_edges))\n",
    "print(len(neg_edges))"
   ]
  },
  {
   "cell_type": "code",
   "execution_count": 30,
   "metadata": {
    "ExecuteTime": {
     "end_time": "2020-09-27T11:38:34.180793Z",
     "start_time": "2020-09-27T11:38:34.022023Z"
    }
   },
   "outputs": [
    {
     "name": "stdout",
     "output_type": "stream",
     "text": [
      "7813\n",
      "45653\n",
      "14950\n",
      "6407\n",
      "39246\n"
     ]
    }
   ],
   "source": [
    "dis_gene_network = nx.Graph() # 创建无向图\n",
    "dis_gene_network.add_edges_from(edges)\n",
    "print(len(dis_gene_network.nodes))\n",
    "saveSampleRandomPath=\"./stanford_data/randomSample_edges0.3.txt\"\n",
    "dis_gene_network_random, pos_edges_rand = random_drop(dis_gene_network, drop_ratio=0.3)\n",
    "save_edges(saveSampleRandomPath,pos_edges_rand,neg_edges)\n",
    "print(len(list(dis_gene_network_random.edges)))\n",
    "print(len(pos_edges))\n",
    "print(len(neg_edges))"
   ]
  },
  {
   "cell_type": "code",
   "execution_count": 31,
   "metadata": {
    "ExecuteTime": {
     "end_time": "2020-09-27T12:12:55.953913Z",
     "start_time": "2020-09-27T12:12:55.871300Z"
    }
   },
   "outputs": [],
   "source": [
    "nx.write_adjlist(dis_gene_network_connective, \"./stanford_data/dis_gene_network_connective.txt\")\n",
    "nx.write_adjlist(dis_gene_network_random, \"./stanford_data/dis_gene_network_random.txt\")"
   ]
  },
  {
   "cell_type": "code",
   "execution_count": null,
   "metadata": {},
   "outputs": [],
   "source": []
  }
 ],
 "metadata": {
  "kernelspec": {
   "display_name": "Python [conda env:OpenNE]",
   "language": "python",
   "name": "conda-env-OpenNE-py"
  },
  "language_info": {
   "codemirror_mode": {
    "name": "ipython",
    "version": 3
   },
   "file_extension": ".py",
   "mimetype": "text/x-python",
   "name": "python",
   "nbconvert_exporter": "python",
   "pygments_lexer": "ipython3",
   "version": "3.6.2"
  },
  "varInspector": {
   "cols": {
    "lenName": 16,
    "lenType": 16,
    "lenVar": 40
   },
   "kernels_config": {
    "python": {
     "delete_cmd_postfix": "",
     "delete_cmd_prefix": "del ",
     "library": "var_list.py",
     "varRefreshCmd": "print(var_dic_list())"
    },
    "r": {
     "delete_cmd_postfix": ") ",
     "delete_cmd_prefix": "rm(",
     "library": "var_list.r",
     "varRefreshCmd": "cat(var_dic_list()) "
    }
   },
   "types_to_exclude": [
    "module",
    "function",
    "builtin_function_or_method",
    "instance",
    "_Feature"
   ],
   "window_display": false
  }
 },
 "nbformat": 4,
 "nbformat_minor": 4
}
