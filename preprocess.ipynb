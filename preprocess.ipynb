{
 "cells": [
  {
   "cell_type": "code",
   "execution_count": 4,
   "metadata": {
    "ExecuteTime": {
     "end_time": "2020-11-03T08:48:59.806465Z",
     "start_time": "2020-11-03T08:48:58.034830Z"
    },
    "collapsed": true
   },
   "outputs": [],
   "source": [
    "from __future__ import division\n",
    "from __future__ import print_function\n",
    "import numpy as np\n",
    "import pandas as pd\n",
    "import matplotlib.pyplot as plt\n",
    "from itertools import islice\n",
    "import pickle\n",
    "import networkx as nx\n",
    "import openne\n",
    "import openne.node2vec\n",
    "from openne.graph import *\n",
    "import scipy.sparse as sp\n",
    "import random\n",
    "random.seed(32)\n",
    "np.random.seed(32)\n"
   ]
  },
  {
   "cell_type": "code",
   "execution_count": 5,
   "metadata": {
    "ExecuteTime": {
     "end_time": "2020-11-03T08:49:00.550742Z",
     "start_time": "2020-11-03T08:48:59.818267Z"
    },
    "collapsed": true
   },
   "outputs": [],
   "source": [
    "#有方法：degree_graph、load_net、getNodelist、save_sampledEdges、extract_edges、extractEdgesByRatioList\n",
    "\n",
    "\"\"\"\n",
    "功能: 统计网络的度分布\n",
    "输入: networkx格式的图G\n",
    "返回: 各节点度\n",
    "\"\"\"\n",
    "def degree_graph(G,savaPath=\"pictures/origin.svg\"):\n",
    "    # G = nx.from_scipy_sparse_matrix(adj_matrix)\n",
    "    degree = G.degree()  # 返回所有节点的度\n",
    "    sum_degree = 0\n",
    "    for elem in degree:\n",
    "        sum_degree += elem[1]\n",
    "    avl_degree = sum_degree / len(degree)\n",
    "    #print(\"网络平均度：\" + str(round(avl_degree, 4)))\n",
    "    degree_his = nx.degree_histogram(G)  # 返回图中所有节点的度分布序列\n",
    "    # print(degree_his)\n",
    "    x = range(len(degree_his))  # 生成x轴序列，从1到最大度\n",
    "    # 将频次转换为频率，这用到Python的一个小技巧：列表内涵）\n",
    "    y = [z / float(sum(degree_his)) for z in degree_his]  \n",
    "    plt.title(\"The distribution of degree\\nAverage degree:\" + str(round(avl_degree, 4)))\n",
    "    plt.loglog(x, y, \"b.\")  # 在双对数坐标轴上绘制度分布曲线color=\"blue\", linewidth=2\n",
    "    plt.savefig(savaPath)\n",
    "    plt.show()\n",
    "    plt.close()\n",
    "    return degree\n",
    "\n",
    "def degree_graph_chinese(G,savaPath=\"pictures/origin.svg\"):\n",
    "    # G = nx.from_scipy_sparse_matrix(adj_matrix)\n",
    "    degree = G.degree()  # 返回所有节点的度\n",
    "    sum_degree = 0\n",
    "    for elem in degree:\n",
    "        sum_degree += elem[1]\n",
    "    avl_degree = sum_degree / len(degree)\n",
    "    #print(\"网络平均度：\" + str(round(avl_degree, 4)))\n",
    "    degree_his = nx.degree_histogram(G)  # 返回图中所有节点的度分布序列\n",
    "    # print(degree_his)\n",
    "    x = range(len(degree_his))  # 生成x轴序列，从1到最大度\n",
    "    # 将频次转换为频率，这用到Python的一个小技巧：列表内涵）\n",
    "    y = [z / float(sum(degree_his)) for z in degree_his]  \n",
    "    plt.title(\"网络的度分布图\\n平均度为:\" + str(round(avl_degree, 4)))\n",
    "    plt.loglog(x, y, \"b.\")  # 在双对数坐标轴上绘制度分布曲线color=\"blue\", linewidth=2\n",
    "    plt.savefig(savaPath)\n",
    "    plt.show()\n",
    "    plt.close()\n",
    "    return degree\n",
    "\n",
    "\"\"\"\n",
    "功能: 统计网络的度分布\n",
    "输入: networkx格式的图G\n",
    "返回: 各节点度\n",
    "\"\"\"\n",
    "def getDegree(G,savaPath=\"pictures/degreeDistribute.svg\"):\n",
    "    # G = nx.from_scipy_sparse_matrix(adj_matrix)\n",
    "    degree = G.degree()  # 返回所有节点的度\n",
    "    sum_degree = 0\n",
    "    for elem in degree:\n",
    "        sum_degree += elem[1]\n",
    "    avl_degree = sum_degree / len(degree)\n",
    "    #print(\"网络平均度：\" + str(round(avl_degree, 4)))\n",
    "    degree_his = nx.degree_histogram(G)  # 返回图中所有节点的度分布序列\n",
    "    # print(degree_his)\n",
    "    x = range(len(degree_his))  # 生成x轴序列，从1到最大度\n",
    "    # 将频次转换为频率，这用到Python的一个小技巧：列表内涵）\n",
    "    y = [z / float(sum(degree_his)) for z in degree_his]  \n",
    "    plt.title(\"The distribution of degree\\nAverage degree:\" + str(round(avl_degree, 4)))\n",
    "    plt.loglog(x, y, \"b.\")  # 在双对数坐标轴上绘制度分布曲线color=\"blue\", linewidth=2\n",
    "    plt.savefig(savaPath)\n",
    "    plt.show()\n",
    "    plt.close()\n",
    "    return degree\n",
    "\n",
    "\"\"\"\n",
    "#name2index：节点ID与标号对应表\n",
    "功能: 添加网络\n",
    "输入: \n",
    "    fileName:文件名\n",
    "    start_index:开始序号\n",
    "    name2index:节点id到index的映射\n",
    "    edges:以index形式保存的列表\n",
    "返回: 返回当前最后一个节点的index\n",
    "\"\"\"\n",
    "def loadNetByIndex(fileName, start_index, name2index, edges):\n",
    "    lines = 0\n",
    "    with open(fileName, 'r') as f:\n",
    "        for line in f:\n",
    "            lines += 1\n",
    "            words = line.split()\n",
    "            name1 = words[0]\n",
    "            if name1 in name2index:\n",
    "                index1 = name2index[name1]\n",
    "            else:\n",
    "                index1 = start_index\n",
    "                name2index[name1] = index1\n",
    "                start_index += 1\n",
    "                \n",
    "            name2 = words[1]\n",
    "            if name2 in name2index:\n",
    "                index2 = name2index[name2]\n",
    "            else:\n",
    "                index2 = start_index\n",
    "                name2index[name2] = index2\n",
    "                start_index += 1\n",
    "            edges.add((index1, index2))\n",
    "    print(\"End index {}\".format(start_index))\n",
    "    return start_index\n",
    "\n",
    "#加载网络\n",
    "def loadNet(fileName):\n",
    "    edges=set()\n",
    "    with open(fileName, 'r') as f:\n",
    "        for line in f:\n",
    "            words = line.split()\n",
    "            edges.add((words[0], words[1]))\n",
    "    return edges\n",
    "\n",
    "\"\"\"\n",
    "#name2index：节点ID与标号对应表\n",
    "功能: 获取网络中节点\n",
    "输入: \n",
    "    fileName:文件名\n",
    "    name2index:节点id到index的映射\n",
    "返回: 节点列表\n",
    "\"\"\"\n",
    "def getNodelist(fileName):\n",
    "    nodeList1 = set()\n",
    "    nodeList2 = set()\n",
    "    with open(fileName, 'r') as f:\n",
    "        for line in f:\n",
    "            words = line.split()\n",
    "            nodeList1.add(words[0])\n",
    "            nodeList2.add(words[1])\n",
    "    return list(nodeList1), list(nodeList2)\n",
    "\n",
    "\"\"\"\n",
    "功能: 保存正负用例（边列表）\n",
    "    保存格式为：node1 node2 flag\n",
    "    flag为1表示正例，为0表示负例\n",
    "输入: \n",
    "    save_path:保存文件名\n",
    "    pos_edges:正边集合\n",
    "    neg_edges:负边集合\n",
    "返回: 无\n",
    "\"\"\"\n",
    "def save_sampledEdges(save_path,pos_edges,neg_edges):\n",
    "    with open(save_path, 'w') as f:\n",
    "        for node1,node2 in pos_edges:\n",
    "            temp=str(node1)+\" \"+str(node2)+\" \"+str(1)+\"\\n\"\n",
    "            f.write(temp)\n",
    "        for node1,node2 in neg_edges:\n",
    "            temp=str(node1)+\" \"+str(node2)+\" \"+str(0)+\"\\n\"\n",
    "            f.write(temp)\n",
    "\n",
    "\"\"\"\n",
    "功能: 按比例从已经存在的边列表中提取正负例\n",
    "输入: \n",
    "    edges_set:list:为网络中已有连边的集合,一般为疾病-基因网络的边表\n",
    "    sample_ratio:正负例比例\n",
    "    save_path:保存路径\n",
    "返回: 提取后的正负用例pos_edges:list,neg_edges:list\n",
    "\"\"\"            \n",
    "def extract_edges(edges_set,sample_ratio,save_path):\n",
    "#     dis_nodes,gene_nodes=getNodelist(dis_gene_file,disNI,geneNI)\n",
    "    #提取正例\n",
    "    pos_edges=list(edges_set)\n",
    "    neg_nums=(int)(sample_ratio*len(pos_edges))\n",
    "    neg_edges=[]\n",
    "    dis_nodes=set()#list(set(pos_edges[:][0]))\n",
    "    gene_nodes=set()#list(set(pos_edges[:][1]))\n",
    "    for edge in pos_edges:\n",
    "        dis_nodes.add(edge[0])\n",
    "        gene_nodes.add(edge[1])\n",
    "    dis_nodes=list(dis_nodes)\n",
    "    gene_nodes=list(gene_nodes)\n",
    "    count=0\n",
    "    while count<neg_nums:\n",
    "        index1=random.choice(dis_nodes)\n",
    "        index2=random.choice(gene_nodes)\n",
    "        edge=(index1,index2)\n",
    "        if edge not in pos_edges and edge not in neg_edges:\n",
    "            neg_edges.append(edge)\n",
    "            count+=1\n",
    "    \n",
    "    save_edges(save_path,pos_edges,neg_edges)\n",
    "    return pos_edges,neg_edges"
   ]
  },
  {
   "cell_type": "code",
   "execution_count": 10,
   "metadata": {
    "ExecuteTime": {
     "end_time": "2020-11-03T08:58:13.658661Z",
     "start_time": "2020-11-03T08:58:13.100489Z"
    },
    "collapsed": true
   },
   "outputs": [],
   "source": [
    "\"\"\"\n",
    "功能: 保存正负用例（边列表）\n",
    "    保存格式为：node1 node2 flag\n",
    "    flag为1表示正例，为0表示负例\n",
    "输入: \n",
    "    save_path:保存文件名\n",
    "    pos_edges:正边集合\n",
    "    neg_edges:负边集合\n",
    "返回: 无\n",
    "\"\"\"\n",
    "def save_edges(save_path,pos_edges,neg_edges):\n",
    "    count=0\n",
    "    with open(save_path, 'w') as f:\n",
    "        for edge in neg_edges:\n",
    "            count+=1\n",
    "            temp=str(edge[0])+\" \"+str(edge[1])+\" \"+str(0)+\"\\n\"\n",
    "            f.write(temp)\n",
    "        for edge in pos_edges:\n",
    "            count+=1\n",
    "            temp=str(edge[0])+\" \"+str(edge[1])+\" \"+str(1)+\"\\n\"\n",
    "            f.write(temp)\n",
    "        print(count)\n",
    "            \n",
    "\"\"\"\n",
    "功能: 提取一定数量的负例（本数据集总数量为130820）\n",
    "输入: \n",
    "    G:网络\n",
    "    sampleNegNum:提取数量\n",
    "返回: 负边列表（存储格式为:(node1,node2)）\n",
    "\"\"\"\n",
    "def sampleNegativeEdge(G,sampleRatio=0.3,totalNum=130820):\n",
    "    np.random.seed(123456)\n",
    "    sampleNegNum=int(sampleRatio*totalNum)\n",
    "    # get all positive edges\n",
    "    all_edges = G.edges()\n",
    "    all_edges = list(set(all_edges))\n",
    "    sample_negEdges=[]\n",
    "    nodes1=set()\n",
    "    nodes2=set()\n",
    "    for edge in all_edges:\n",
    "        nodes1.add(edge[0])\n",
    "        nodes2.add(edge[1])\n",
    "    nodes1=list(nodes1)\n",
    "    nodes2=list(nodes2)\n",
    "    count=0\n",
    "    while count<sampleNegNum:\n",
    "        node1=random.choice(nodes1)\n",
    "        node2=random.choice(nodes2)\n",
    "        edge=(node1,node2)\n",
    "        if edge not in all_edges and edge not in sample_negEdges:\n",
    "            sample_negEdges.append(edge)\n",
    "            count+=1\n",
    "    return sample_negEdges\n",
    "    \n",
    "def sampleNegativeEdgeByRatio(G,ratio=1.0,posSampleRatio=0.5,totalNum=130820):\n",
    "    np.random.seed(123456)\n",
    "    sampleNegNum=int(posSampleRatio*totalNum*ratio)\n",
    "    # get all positive edges\n",
    "    all_edges = G.edges()\n",
    "    all_edges = list(set(all_edges))\n",
    "    sample_negEdges=[]\n",
    "    nodes1=set()\n",
    "    nodes2=set()\n",
    "    for edge in all_edges:\n",
    "        nodes1.add(edge[0])\n",
    "        nodes2.add(edge[1])\n",
    "    nodes1=list(nodes1)\n",
    "    nodes2=list(nodes2)\n",
    "    count=0\n",
    "    while count<sampleNegNum:\n",
    "        node1=random.choice(nodes1)\n",
    "        node2=random.choice(nodes2)\n",
    "        edge=(node1,node2)\n",
    "        if edge not in all_edges and edge not in sample_negEdges:\n",
    "            sample_negEdges.append(edge)\n",
    "            count+=1\n",
    "    return sample_negEdges\n",
    "    \n",
    "def mst_drop(G, drop_ratio=0.3):\n",
    "    \"\"\"randomly drop some edge that already exist, and keep connection.\n",
    "    return: G: graph after process\n",
    "            drop_pos: ndarray of droped edges\n",
    "    \"\"\"\n",
    "    np.random.seed(123456)\n",
    "    # get all positive edges\n",
    "    all_pos_edges = G.edges()\n",
    "    all_pos_edgeset = set(all_pos_edges)\n",
    "    total = len(all_pos_edgeset)\n",
    "    \n",
    "    # generate minimum spanning tree's edges\n",
    "    from networkx.algorithms import tree\n",
    "    mst = tree.minimum_spanning_edges(G, algorithm='kruskal', data=False)\n",
    "    edgelist = list(mst)\n",
    "    edgeset = set(tuple(sorted(edge)) for edge in edgelist)\n",
    "    \n",
    "    # all_pos - mst_edgelist\n",
    "    other_pos_edgeset = all_pos_edgeset.difference(edgeset)\n",
    "    other_pos_edges = np.asarray(list(other_pos_edgeset))\n",
    "    other = len(other_pos_edgeset)\n",
    "    \n",
    "    if other <= total * drop_ratio:\n",
    "        drop_pos = other_pos_edges\n",
    "        G.remove_edges_from(other_pos_edges)\n",
    "    else:\n",
    "        drop_pos_idx = np.random.choice(np.arange(other), int(total * drop_ratio), replace=False)\n",
    "        drop_pos = other_pos_edges[drop_pos_idx]\n",
    "        G.remove_edges_from(drop_pos)\n",
    "    return G, drop_pos\n",
    "\n",
    "def random_drop(G, drop_ratio=0.3):\n",
    "    np.random.seed(123456)\n",
    "    # get all positive edges\n",
    "    all_pos_edges = list(set(G.edges()))\n",
    "    drop_pos=[]\n",
    "    #np.asarray(all_pos_edges)\n",
    "    total = len(all_pos_edges)\n",
    "    num_drop = total * drop_ratio\n",
    "    index_list = [i for i in range(total)]\n",
    "    index = random.sample(index_list, int(num_drop))\n",
    "    for idx in index:\n",
    "        drop_pos.append(all_pos_edges[idx])\n",
    "    G.remove_edges_from(drop_pos)\n",
    "    np.asarray(drop_pos)\n",
    "    return G, drop_pos\n",
    "\n",
    "\n",
    "def read_edges(filename):\n",
    "    pos_edges = set()\n",
    "    neg_edges = set()\n",
    "    with open(filename, 'r') as f:\n",
    "        for line in f:\n",
    "            words = line.split()\n",
    "            node1 = words[0]\n",
    "            node2 = words[1]\n",
    "            label = words[2]\n",
    "            if label == '1':\n",
    "                pos_edges.add((node1, node2))\n",
    "            else:\n",
    "                neg_edges.add((node1, node2))\n",
    "    return list(pos_edges), list(neg_edges)"
   ]
  },
  {
   "cell_type": "code",
   "execution_count": 11,
   "metadata": {
    "ExecuteTime": {
     "end_time": "2020-11-02T14:37:09.310755Z",
     "start_time": "2020-11-02T14:37:05.058303Z"
    }
   },
   "outputs": [
    {
     "name": "stderr",
     "output_type": "stream",
     "text": [
      "/home/wumx/anaconda3/envs/OpenNE/lib/python3.6/site-packages/matplotlib/mathtext.py:866: MathTextWarning: Font 'default' does not have a glyph for '-' [U+2212]\n",
      "  MathTextWarning)\n",
      "/home/wumx/anaconda3/envs/OpenNE/lib/python3.6/site-packages/matplotlib/mathtext.py:867: MathTextWarning: Substituting with a dummy symbol.\n",
      "  warn(\"Substituting with a dummy symbol.\", MathTextWarning)\n"
     ]
    },
    {
     "data": {
      "image/png": "[encoded data removed]",
      "text/plain": [
       "<matplotlib.figure.Figure at 0x7f703359d748>"
      ]
     },
     "metadata": {},
     "output_type": "display_data"
    }
   ],
   "source": [
    "network=nx.read_adjlist(\"network_edgelist/allNetworkConnective0.5.txt\")\n",
    "degree=degree_graph_chinese(network,\"pictures/allnetwork_degree.svg\")"
   ]
  },
  {
   "cell_type": "code",
   "execution_count": 7,
   "metadata": {
    "ExecuteTime": {
     "end_time": "2020-11-03T08:49:13.513912Z",
     "start_time": "2020-11-03T08:49:12.898238Z"
    }
   },
   "outputs": [],
   "source": [
    "data_path='original_data/'\n",
    "dis_gene_file = data_path+'DisGeNet_dis_gene.txt' #疾病基因网络\n",
    "dis_symp_file = data_path+'HPO&Orphanet_dis_symp.txt' #疾病表型网络\n",
    "gene_go_file = data_path+'homo_gene_GO.txt' #基因本体网络\n",
    "ppi_file = data_path+'blab_ppi2016.txt' #ppi网络\n",
    "\n",
    "dis_gene_edges=loadNet(dis_gene_file)\n",
    "dis_symp_edges=loadNet(dis_symp_file)\n",
    "gene_go_edges=loadNet(gene_go_file)\n",
    "ppi_edges=loadNet(ppi_file)"
   ]
  },
  {
   "cell_type": "code",
   "execution_count": 8,
   "metadata": {
    "ExecuteTime": {
     "end_time": "2020-11-03T08:49:15.331300Z",
     "start_time": "2020-11-03T08:49:14.757737Z"
    }
   },
   "outputs": [
    {
     "name": "stdout",
     "output_type": "stream",
     "text": [
      "DisGeNet:\n",
      "disease nums:13074\n",
      "gene nums:8947\n",
      "total nums:22021\n",
      "edges:130820\n",
      "\n",
      "\n",
      "HPO&Orphanet:\n",
      "disease nums:5423\n",
      "symptom nums:6540\n",
      "total nums:11963\n",
      "edges:99087\n",
      "\n",
      "\n",
      "homo_gene_GO:\n",
      "gene nums:18584\n",
      "go nums:14204\n",
      "total nums:19627\n",
      "edges:218337\n",
      "\n",
      "\n",
      "blab_ppi2016:\n",
      "gene nums:10810\n",
      "gene nums:14996\n",
      "total nums:25806\n",
      "edges:213888\n",
      "\n",
      "\n"
     ]
    }
   ],
   "source": [
    "dis_nodes,gene_nodes=getNodelist(dis_gene_file)\n",
    "print(\"DisGeNet:\\ndisease nums:{}\\ngene nums:{}\\ntotal nums:{}\\nedges:{}\\n\\n\".format(len(dis_nodes),len(gene_nodes),len(dis_nodes)+len(gene_nodes),len(dis_gene_edges)))\n",
    "dis_nodes,symp_nodes=getNodelist(dis_symp_file)\n",
    "print(\"HPO&Orphanet:\\ndisease nums:{}\\nsymptom nums:{}\\ntotal nums:{}\\nedges:{}\\n\\n\".format(len(dis_nodes),len(symp_nodes),len(dis_nodes)+len(symp_nodes),len(dis_symp_edges)))\n",
    "gene_nodes,go_nodes=getNodelist(gene_go_file)\n",
    "print(\"homo_gene_GO:\\ngene nums:{}\\ngo nums:{}\\ntotal nums:{}\\nedges:{}\\n\\n\".format(len(gene_nodes),len(go_nodes),len(dis_nodes)+len(go_nodes),len(gene_go_edges)))\n",
    "gene_nodes1,gene_nodes2=getNodelist(ppi_file)\n",
    "print(\"blab_ppi2016:\\ngene nums:{}\\ngene nums:{}\\ntotal nums:{}\\nedges:{}\\n\\n\".format(len(gene_nodes1),len(gene_nodes2),len(gene_nodes1)+len(gene_nodes2),len(ppi_edges)))"
   ]
  },
  {
   "cell_type": "code",
   "execution_count": 9,
   "metadata": {
    "ExecuteTime": {
     "end_time": "2020-11-03T08:49:21.370389Z",
     "start_time": "2020-11-03T08:49:16.652570Z"
    }
   },
   "outputs": [
    {
     "name": "stderr",
     "output_type": "stream",
     "text": [
      "/home/wumx/anaconda3/envs/OpenNE/lib/python3.6/site-packages/matplotlib/mathtext.py:866: MathTextWarning: Font 'default' does not have a glyph for '-' [U+2212]\n",
      "  MathTextWarning)\n",
      "/home/wumx/anaconda3/envs/OpenNE/lib/python3.6/site-packages/matplotlib/mathtext.py:867: MathTextWarning: Substituting with a dummy symbol.\n",
      "  warn(\"Substituting with a dummy symbol.\", MathTextWarning)\n"
     ]
    },
    {
     "data": {
      "image/png": "[encoded data removed]",
      "text/plain": [
       "<matplotlib.figure.Figure at 0x7f5e1d454470>"
      ]
     },
     "metadata": {},
     "output_type": "display_data"
    }
   ],
   "source": [
    "network = nx.Graph() # 创建无向图\n",
    "network.add_edges_from(list(dis_gene_edges))\n",
    "network.add_edges_from(list(dis_symp_edges))\n",
    "network.add_edges_from(list(gene_go_edges))\n",
    "network.add_edges_from(list(ppi_edges))\n",
    "degree=degree_graph(network,\"pictures/network_degree.svg\")"
   ]
  },
  {
   "cell_type": "code",
   "execution_count": 38,
   "metadata": {
    "ExecuteTime": {
     "end_time": "2020-10-27T12:40:46.930817Z",
     "start_time": "2020-10-27T12:37:15.049185Z"
    }
   },
   "outputs": [
    {
     "name": "stdout",
     "output_type": "stream",
     "text": [
      "transitivity=0.019956104970846017\n",
      "avg_clustering=0.060420911000412456\n"
     ]
    }
   ],
   "source": [
    "transitivity=nx.transitivity(network)#图或网络的传递性。即图或网络中，认识同一个节点的两个节点也可能认识双方，计算公式为3*图中三角形的个数/三元组个数（该三元组个数是有公共顶点的边对数，这样就好数了）。\n",
    "clustering=nx.clustering(network)\n",
    "avg_clustering=sum(clustering.values())/len(clustering)\n",
    "print(\"transitivity={}\".format(transitivity))\n",
    "print(\"avg_clustering={}\".format(avg_clustering))"
   ]
  },
  {
   "cell_type": "code",
   "execution_count": 6,
   "metadata": {
    "ExecuteTime": {
     "end_time": "2020-11-02T14:08:55.332416Z",
     "start_time": "2020-11-02T14:08:53.599275Z"
    }
   },
   "outputs": [
    {
     "name": "stderr",
     "output_type": "stream",
     "text": [
      "/home/wumx/anaconda3/envs/OpenNE/lib/python3.6/site-packages/matplotlib/mathtext.py:866: MathTextWarning: Font 'default' does not have a glyph for '-' [U+2212]\n",
      "  MathTextWarning)\n",
      "/home/wumx/anaconda3/envs/OpenNE/lib/python3.6/site-packages/matplotlib/mathtext.py:867: MathTextWarning: Substituting with a dummy symbol.\n",
      "  warn(\"Substituting with a dummy symbol.\", MathTextWarning)\n"
     ]
    },
    {
     "data": {
      "image/png": "[encoded data removed]",
      "text/plain": [
       "<matplotlib.figure.Figure at 0x7f714c7c7780>"
      ]
     },
     "metadata": {},
     "output_type": "display_data"
    }
   ],
   "source": [
    "dis_gene_network = nx.Graph() # 创建无向图\n",
    "dis_gene_network.add_edges_from(list(dis_gene_edges))\n",
    "degree=degree_graph_chinese(dis_gene_network,\"pictures/dis_gene_degree.svg\")"
   ]
  },
  {
   "cell_type": "code",
   "execution_count": 34,
   "metadata": {
    "ExecuteTime": {
     "end_time": "2020-10-27T08:25:18.288204Z",
     "start_time": "2020-10-27T08:25:04.871085Z"
    }
   },
   "outputs": [
    {
     "name": "stdout",
     "output_type": "stream",
     "text": [
      "transitivity=0\n",
      "avg_clustering=0.0\n"
     ]
    }
   ],
   "source": [
    "transitivity=nx.transitivity(dis_gene_network)#图或网络的传递性。即图或网络中，认识同一个节点的两个节点也可能认识双方，计算公式为3*图中三角形的个数/三元组个数（该三元组个数是有公共顶点的边对数，这样就好数了）。\n",
    "clustering=nx.clustering(dis_gene_network)\n",
    "avg_clustering=sum(clustering.values())/len(clustering)\n",
    "print(\"transitivity={}\".format(transitivity))\n",
    "print(\"avg_clustering={}\".format(avg_clustering))"
   ]
  },
  {
   "cell_type": "code",
   "execution_count": 7,
   "metadata": {
    "ExecuteTime": {
     "end_time": "2020-11-02T14:17:54.158095Z",
     "start_time": "2020-11-02T14:17:52.713200Z"
    }
   },
   "outputs": [
    {
     "name": "stderr",
     "output_type": "stream",
     "text": [
      "/home/wumx/anaconda3/envs/OpenNE/lib/python3.6/site-packages/matplotlib/mathtext.py:866: MathTextWarning: Font 'default' does not have a glyph for '-' [U+2212]\n",
      "  MathTextWarning)\n",
      "/home/wumx/anaconda3/envs/OpenNE/lib/python3.6/site-packages/matplotlib/mathtext.py:867: MathTextWarning: Substituting with a dummy symbol.\n",
      "  warn(\"Substituting with a dummy symbol.\", MathTextWarning)\n"
     ]
    },
    {
     "data": {
      "image/png": "[encoded data removed]",
      "text/plain": [
       "<matplotlib.figure.Figure at 0x7f704932bc50>"
      ]
     },
     "metadata": {},
     "output_type": "display_data"
    }
   ],
   "source": [
    "dis_symp_network = nx.Graph() # 创建无向图\n",
    "dis_symp_network.add_edges_from(list(dis_symp_edges))\n",
    "degree=degree_graph_chinese(dis_symp_network,\"pictures/dis_symp_degree.svg\")"
   ]
  },
  {
   "cell_type": "code",
   "execution_count": 35,
   "metadata": {
    "ExecuteTime": {
     "end_time": "2020-10-27T08:25:30.120659Z",
     "start_time": "2020-10-27T08:25:19.068889Z"
    }
   },
   "outputs": [
    {
     "name": "stdout",
     "output_type": "stream",
     "text": [
      "transitivity=0\n",
      "avg_clustering=0.0\n"
     ]
    }
   ],
   "source": [
    "transitivity=nx.transitivity(dis_symp_network)#图或网络的传递性。即图或网络中，认识同一个节点的两个节点也可能认识双方，计算公式为3*图中三角形的个数/三元组个数（该三元组个数是有公共顶点的边对数，这样就好数了）。\n",
    "clustering=nx.clustering(dis_symp_network)\n",
    "avg_clustering=sum(clustering.values())/len(clustering)\n",
    "print(\"transitivity={}\".format(transitivity))\n",
    "print(\"avg_clustering={}\".format(avg_clustering))"
   ]
  },
  {
   "cell_type": "code",
   "execution_count": 8,
   "metadata": {
    "ExecuteTime": {
     "end_time": "2020-11-02T14:18:09.813883Z",
     "start_time": "2020-11-02T14:18:07.502186Z"
    }
   },
   "outputs": [
    {
     "name": "stderr",
     "output_type": "stream",
     "text": [
      "/home/wumx/anaconda3/envs/OpenNE/lib/python3.6/site-packages/matplotlib/mathtext.py:866: MathTextWarning: Font 'default' does not have a glyph for '-' [U+2212]\n",
      "  MathTextWarning)\n",
      "/home/wumx/anaconda3/envs/OpenNE/lib/python3.6/site-packages/matplotlib/mathtext.py:867: MathTextWarning: Substituting with a dummy symbol.\n",
      "  warn(\"Substituting with a dummy symbol.\", MathTextWarning)\n"
     ]
    },
    {
     "data": {
      "image/png": "[encoded data removed]",
      "text/plain": [
       "<matplotlib.figure.Figure at 0x7f714c022a20>"
      ]
     },
     "metadata": {},
     "output_type": "display_data"
    }
   ],
   "source": [
    "gene_go_network = nx.Graph() # 创建无向图\n",
    "gene_go_network.add_edges_from(list(gene_go_edges))\n",
    "degree=degree_graph_chinese(gene_go_network,\"pictures/gene_go_degree.svg\")"
   ]
  },
  {
   "cell_type": "code",
   "execution_count": 36,
   "metadata": {
    "ExecuteTime": {
     "end_time": "2020-10-27T08:26:53.572409Z",
     "start_time": "2020-10-27T08:25:30.948840Z"
    }
   },
   "outputs": [
    {
     "name": "stdout",
     "output_type": "stream",
     "text": [
      "transitivity=0\n",
      "avg_clustering=0.0\n"
     ]
    }
   ],
   "source": [
    "transitivity=nx.transitivity(gene_go_network)#图或网络的传递性。即图或网络中，认识同一个节点的两个节点也可能认识双方，计算公式为3*图中三角形的个数/三元组个数（该三元组个数是有公共顶点的边对数，这样就好数了）。\n",
    "clustering=nx.clustering(gene_go_network)\n",
    "avg_clustering=sum(clustering.values())/len(clustering)\n",
    "print(\"transitivity={}\".format(transitivity))\n",
    "print(\"avg_clustering={}\".format(avg_clustering))"
   ]
  },
  {
   "cell_type": "code",
   "execution_count": 9,
   "metadata": {
    "ExecuteTime": {
     "end_time": "2020-11-02T14:18:14.815411Z",
     "start_time": "2020-11-02T14:18:12.155700Z"
    }
   },
   "outputs": [
    {
     "name": "stderr",
     "output_type": "stream",
     "text": [
      "/home/wumx/anaconda3/envs/OpenNE/lib/python3.6/site-packages/matplotlib/mathtext.py:866: MathTextWarning: Font 'default' does not have a glyph for '-' [U+2212]\n",
      "  MathTextWarning)\n",
      "/home/wumx/anaconda3/envs/OpenNE/lib/python3.6/site-packages/matplotlib/mathtext.py:867: MathTextWarning: Substituting with a dummy symbol.\n",
      "  warn(\"Substituting with a dummy symbol.\", MathTextWarning)\n"
     ]
    },
    {
     "data": {
      "image/png": "[encoded data removed]",
      "text/plain": [
       "<matplotlib.figure.Figure at 0x7f714d072940>"
      ]
     },
     "metadata": {},
     "output_type": "display_data"
    }
   ],
   "source": [
    "ppi = nx.Graph() # 创建无向图\n",
    "ppi.add_edges_from(list(ppi_edges))\n",
    "degree=degree_graph_chinese(ppi,\"pictures/ppi_degree.svg\")"
   ]
  },
  {
   "cell_type": "code",
   "execution_count": 33,
   "metadata": {
    "ExecuteTime": {
     "end_time": "2020-10-27T08:25:04.027332Z",
     "start_time": "2020-10-27T08:24:04.075861Z"
    }
   },
   "outputs": [
    {
     "name": "stdout",
     "output_type": "stream",
     "text": [
      "transitivity=0.03269052636165511\n",
      "avg_clustering=0.20246884166067755\n"
     ]
    }
   ],
   "source": [
    "transitivity=nx.transitivity(ppi)#图或网络的传递性。即图或网络中，认识同一个节点的两个节点也可能认识双方，计算公式为3*图中三角形的个数/三元组个数（该三元组个数是有公共顶点的边对数，这样就好数了）。\n",
    "clustering=nx.clustering(ppi)\n",
    "avg_clustering=sum(clustering.values())/len(clustering)\n",
    "print(\"transitivity={}\".format(transitivity))\n",
    "print(\"avg_clustering={}\".format(avg_clustering))\n",
    "# largest_components= max(nx.connected_component_subgraphs(ppi), key=len)\n",
    "# nx.average_shortest_path_length(largest_components)\n"
   ]
  },
  {
   "cell_type": "code",
   "execution_count": 11,
   "metadata": {
    "ExecuteTime": {
     "end_time": "2020-11-03T10:06:25.886339Z",
     "start_time": "2020-11-03T09:09:11.976075Z"
    }
   },
   "outputs": [
    {
     "name": "stdout",
     "output_type": "stream",
     "text": [
      "19623\n",
      "26164\n",
      "32705\n",
      "39246\n",
      "45787\n",
      "52328\n",
      "58869\n",
      "65410\n",
      "71951\n"
     ]
    }
   ],
   "source": [
    "import gc\n",
    "negRatio = [0.5,1,1.5,2,2.5,3,3.5,4,4.5]\n",
    "posEdgeFile=\"network_edgelist/connectiveSample_edges0.1.txt\"\n",
    "pos_edges,neg_edges=read_edges(posEdgeFile)\n",
    "posSampleRation=0.1\n",
    "filePredix=\"network_edgelist/connectiveSample_negPosRatio\"\n",
    "for sampleRatio in negRatio:\n",
    "    dis_gene_network = nx.Graph() # 创建无向图\n",
    "    dis_gene_network.add_edges_from(list(dis_gene_edges))\n",
    "    savePath=filePredix+str(sampleRatio)+\".txt\"\n",
    "    neg_edges=sampleNegativeEdge(dis_gene_network,sampleRatio=0.1*sampleRatio)\n",
    "    save_edges(savePath,pos_edges,neg_edges)\n",
    "    del neg_edges,dis_gene_network\n",
    "    count=gc.collect()"
   ]
  },
  {
   "cell_type": "code",
   "execution_count": 12,
   "metadata": {
    "ExecuteTime": {
     "end_time": "2020-10-20T14:20:58.737428Z",
     "start_time": "2020-10-20T11:58:42.744910Z"
    }
   },
   "outputs": [
    {
     "name": "stdout",
     "output_type": "stream",
     "text": [
      "22021\n",
      "26164\n",
      "22021\n",
      "52328\n",
      "22021\n",
      "78492\n",
      "22021\n",
      "104656\n",
      "22021\n",
      "130820\n",
      "22021\n",
      "156984\n",
      "22021\n",
      "183148\n",
      "22021\n",
      "209312\n",
      "22021\n",
      "235476\n"
     ]
    }
   ],
   "source": [
    "posSampleRatio=[x/10 for x in range(1,10)]\n",
    "filePredix=\"network_edgelist/connectiveSample_edges\"\n",
    "i=0\n",
    "for sampleRatio in posSampleRatio:\n",
    "    dis_gene_network = nx.Graph() # 创建无向图\n",
    "    dis_gene_network.add_edges_from(list(dis_gene_edges))\n",
    "#     print(i,len(dis_gene_network.nodes))\n",
    "    i+=1\n",
    "    saveSampleConnectivePath=\"network_edgelist/connectiveSample_edges\"+str(sampleRatio)+\".txt\"\n",
    "    neg_edges=sampleNegativeEdge(dis_gene_network,sampleRatio)\n",
    "    dis_gene_network_connective, pos_edges = mst_drop(dis_gene_network, sampleRatio)\n",
    "    pos_edges=list(map(lambda x:tuple(x),pos_edges))\n",
    "    save_edges(saveSampleConnectivePath,pos_edges,neg_edges)\n",
    "    \n",
    "    #异构网络\n",
    "    #d:disease,g:gene,s:symptom,p:protein,o:GO\n",
    "    dis_gene_network_connective.add_edges_from(dis_symp_edges)\n",
    "    dis_gene_network_connective.add_edges_from(ppi_edges)\n",
    "    dis_gene_network_connective.add_edges_from(gene_go_edges)\n",
    "    nx.write_adjlist(dis_gene_network_connective, \"network_edgelist/allNetworkConnective\"+str(sampleRatio)+\".txt\")"
   ]
  },
  {
   "cell_type": "code",
   "execution_count": 6,
   "metadata": {
    "ExecuteTime": {
     "end_time": "2020-10-12T09:48:16.115250Z",
     "start_time": "2020-10-12T09:33:27.787472Z"
    }
   },
   "outputs": [
    {
     "data": {
      "image/png": "[encoded data removed]",
      "text/plain": [
       "<matplotlib.figure.Figure at 0x7fbb9d1e37b8>"
      ]
     },
     "metadata": {},
     "output_type": "display_data"
    },
    {
     "name": "stdout",
     "output_type": "stream",
     "text": [
      "22021\n",
      "130820\n"
     ]
    }
   ],
   "source": [
    "dis_gene_network = nx.Graph() # 创建无向图\n",
    "dis_gene_network.add_edges_from(list(dis_gene_edges))\n",
    "# degree=degree_graph(dis_gene_network)\n",
    "print(len(dis_gene_network.nodes))\n",
    "saveSampleConnectivePath=\"network_edgelist/connectiveSample_edges0.5.txt\"\n",
    "neg_edges=sampleNegativeEdge(dis_gene_network,sampleRatio=0.5)\n",
    "dis_gene_network_connective, pos_edges = mst_drop(dis_gene_network, drop_ratio=0.5)\n",
    "pos_edges=list(map(lambda x:tuple(x),pos_edges))\n",
    "save_edges(saveSampleConnectivePath,pos_edges,neg_edges)\n",
    "# nx.write_edgelist(remainGraph, \"network_edgelist/dg_sampledGraph_connective_adjlist.txt\", delimiter=' ',data=False)\n",
    "#nx.write_adjlist(remainGraph,\"./network_edgelist/dg_sampledGraph_connective_adjlist.txt\")\n",
    "# print(len(list(dis_gene_network_connective.edges)))\n",
    "# print(len(pos_edges))\n",
    "# print(len(neg_edges))"
   ]
  },
  {
   "cell_type": "code",
   "execution_count": 11,
   "metadata": {
    "ExecuteTime": {
     "end_time": "2020-10-12T13:39:55.450796Z",
     "start_time": "2020-10-12T13:39:53.832307Z"
    }
   },
   "outputs": [
    {
     "data": {
      "image/png": "[encoded data removed]",
      "text/plain": [
       "<matplotlib.figure.Figure at 0x7fbb19ba9d30>"
      ]
     },
     "metadata": {},
     "output_type": "display_data"
    }
   ],
   "source": [
    "dis_gene_network = nx.Graph() # 创建无向图\n",
    "dis_gene_network.add_edges_from(list(dis_gene_edges))\n",
    "degree=degree_graph(dis_gene_network,\"pictures/dis_gene_network.svg\")"
   ]
  },
  {
   "cell_type": "code",
   "execution_count": 12,
   "metadata": {
    "ExecuteTime": {
     "end_time": "2020-10-12T13:40:15.374386Z",
     "start_time": "2020-10-12T13:40:14.348145Z"
    }
   },
   "outputs": [
    {
     "data": {
      "image/png": "[encoded data removed]",
      "text/plain": [
       "<matplotlib.figure.Figure at 0x7fbb19ea9c88>"
      ]
     },
     "metadata": {},
     "output_type": "display_data"
    }
   ],
   "source": [
    "degree=degree_graph(dis_gene_network_connective,\"pictures/dis_gene_connective.svg\")"
   ]
  },
  {
   "cell_type": "code",
   "execution_count": 8,
   "metadata": {
    "ExecuteTime": {
     "end_time": "2020-10-12T09:48:19.230122Z",
     "start_time": "2020-10-12T09:48:18.255447Z"
    }
   },
   "outputs": [
    {
     "name": "stdout",
     "output_type": "stream",
     "text": [
      "22021\n",
      "130820\n",
      "65410\n",
      "65410\n",
      "65410\n"
     ]
    }
   ],
   "source": [
    "dis_gene_network = nx.Graph() # 创建无向图\n",
    "dis_gene_network.add_edges_from(list(dis_gene_edges))\n",
    "print(len(dis_gene_network.nodes))\n",
    "saveSampleRandomPath=\"network_edgelist/randomSample_edges0.5.txt\"\n",
    "dis_gene_network_random, pos_edges_rand = random_drop(dis_gene_network, drop_ratio=0.5)\n",
    "save_edges(saveSampleRandomPath,pos_edges_rand,neg_edges)\n",
    "print(len(list(dis_gene_network_random.edges)))\n",
    "print(len(pos_edges))\n",
    "print(len(neg_edges))"
   ]
  },
  {
   "cell_type": "code",
   "execution_count": 13,
   "metadata": {
    "ExecuteTime": {
     "end_time": "2020-10-12T13:40:35.988175Z",
     "start_time": "2020-10-12T13:40:34.845824Z"
    }
   },
   "outputs": [
    {
     "data": {
      "image/png": "[encoded data removed]",
      "text/plain": [
       "<matplotlib.figure.Figure at 0x7fbb22c69c50>"
      ]
     },
     "metadata": {},
     "output_type": "display_data"
    }
   ],
   "source": [
    "degree=degree_graph(dis_gene_network_random,\"pictures/dis_gene_random.svg\")"
   ]
  },
  {
   "cell_type": "code",
   "execution_count": 14,
   "metadata": {
    "ExecuteTime": {
     "end_time": "2020-10-12T14:08:16.900998Z",
     "start_time": "2020-10-12T14:08:03.496024Z"
    },
    "collapsed": true
   },
   "outputs": [],
   "source": [
    "#不同组合的异构网络(连通性采样方法)\n",
    "#d:disease,g:gene,s:symptom,p:protein,o:GO\n",
    "dg_network=dis_gene_network_connective.copy()\n",
    "dgs_network =dg_network.copy()\n",
    "dgs_network.add_edges_from(dis_symp_edges)\n",
    "dgp_network=dg_network.copy()\n",
    "dgp_network.add_edges_from(ppi_edges)\n",
    "dgpo_network=dgp_network.copy()\n",
    "dgpo_network.add_edges_from(gene_go_edges)\n",
    "dgsp_network=dgs_network.copy()\n",
    "dgsp_network.add_edges_from(ppi_edges)\n",
    "all_network=dgsp_network.copy()\n",
    "all_network.add_edges_from(gene_go_edges)\n",
    "\n",
    "nx.write_adjlist(dg_network, \"network_edgelist/dg_network_adjlist_connective.txt\")\n",
    "nx.write_adjlist(dgs_network, \"network_edgelist/dgs_network_adjlist_connective.txt\")\n",
    "nx.write_adjlist(dgp_network, \"network_edgelist/dgp_network_adjlist_connective.txt\")\n",
    "nx.write_adjlist(dgpo_network, \"network_edgelist/dgpo_network_adjlist_connective.txt\")\n",
    "nx.write_adjlist(dgsp_network, \"network_edgelist/dgsp_network_adjlist_connective.txt\")\n",
    "nx.write_adjlist(all_network, \"network_edgelist/all_network_adjlist_connective.txt\")"
   ]
  },
  {
   "cell_type": "code",
   "execution_count": 15,
   "metadata": {
    "ExecuteTime": {
     "end_time": "2020-10-12T14:08:31.602099Z",
     "start_time": "2020-10-12T14:08:17.637687Z"
    },
    "collapsed": true
   },
   "outputs": [],
   "source": [
    "#不同组合的异构网络(随机采样方法)\n",
    "#d:disease,g:gene,s:symptom,p:protein,o:GO\n",
    "dg_edges=dis_gene_network_random.copy()\n",
    "dgs_network =dg_network.copy()\n",
    "dgs_network.add_edges_from(dis_symp_edges)\n",
    "dgp_network=dg_network.copy()\n",
    "dgp_network.add_edges_from(ppi_edges)\n",
    "dgpo_network=dgp_network.copy()\n",
    "dgpo_network.add_edges_from(gene_go_edges)\n",
    "dgsp_network=dgs_network.copy()\n",
    "dgsp_network.add_edges_from(ppi_edges)\n",
    "all_network=dgsp_network.copy()\n",
    "all_network.add_edges_from(gene_go_edges)\n",
    "\n",
    "\n",
    "nx.write_adjlist(dg_network, \"network_edgelist/dg_network_adjlist_random.txt\")\n",
    "nx.write_adjlist(dgs_network, \"network_edgelist/dgs_network_adjlist_random.txt\")\n",
    "nx.write_adjlist(dgp_network, \"network_edgelist/dgp_network_adjlist_random.txt\")\n",
    "nx.write_adjlist(dgpo_network, \"network_edgelist/dgpo_network_adjlist_random.txt\")\n",
    "nx.write_adjlist(dgsp_network, \"network_edgelist/dgsp_network_adjlist_random.txt\")\n",
    "nx.write_adjlist(all_network, \"network_edgelist/all_network_adjlist_random.txt\")"
   ]
  },
  {
   "cell_type": "code",
   "execution_count": 16,
   "metadata": {
    "ExecuteTime": {
     "end_time": "2020-10-12T14:08:34.301847Z",
     "start_time": "2020-10-12T14:08:32.334454Z"
    }
   },
   "outputs": [
    {
     "data": {
      "image/png": "[encoded data removed]",
      "text/plain": [
       "<matplotlib.figure.Figure at 0x7fbb1c2644e0>"
      ]
     },
     "metadata": {},
     "output_type": "display_data"
    }
   ],
   "source": [
    "degree=degree_graph(all_network,\"pictures/all_net_degree.svg\")"
   ]
  },
  {
   "cell_type": "code",
   "execution_count": null,
   "metadata": {
    "collapsed": true
   },
   "outputs": [],
   "source": []
  }
 ],
 "metadata": {
  "kernelspec": {
   "display_name": "Python [conda env:OpenNE]",
   "language": "python",
   "name": "conda-env-OpenNE-py"
  },
  "language_info": {
   "codemirror_mode": {
    "name": "ipython",
    "version": 3
   },
   "file_extension": ".py",
   "mimetype": "text/x-python",
   "name": "python",
   "nbconvert_exporter": "python",
   "pygments_lexer": "ipython3",
   "version": "3.6.2"
  },
  "varInspector": {
   "cols": {
    "lenName": 16,
    "lenType": 16,
    "lenVar": 40
   },
   "kernels_config": {
    "python": {
     "delete_cmd_postfix": "",
     "delete_cmd_prefix": "del ",
     "library": "var_list.py",
     "varRefreshCmd": "print(var_dic_list())"
    },
    "r": {
     "delete_cmd_postfix": ") ",
     "delete_cmd_prefix": "rm(",
     "library": "var_list.r",
     "varRefreshCmd": "cat(var_dic_list()) "
    }
   },
   "types_to_exclude": [
    "module",
    "function",
    "builtin_function_or_method",
    "instance",
    "_Feature"
   ],
   "window_display": false
  }
 },
 "nbformat": 4,
 "nbformat_minor": 4
}
